{
  "nbformat": 4,
  "nbformat_minor": 0,
  "metadata": {
    "colab": {
      "name": "image_folder.ipynb",
      "provenance": [],
      "collapsed_sections": [],
      "authorship_tag": "ABX9TyO7qd8RrPwzl4op/+PaXo02",
      "include_colab_link": true
    },
    "kernelspec": {
      "name": "python3",
      "display_name": "Python 3"
    }
  },
  "cells": [
    {
      "cell_type": "markdown",
      "metadata": {
        "id": "view-in-github",
        "colab_type": "text"
      },
      "source": [
        "<a href=\"https://colab.research.google.com/github/qhruddl51/DeepLearning/blob/main/cat_BW_classification.ipynb\" target=\"_parent\"><img src=\"https://colab.research.google.com/assets/colab-badge.svg\" alt=\"Open In Colab\"/></a>"
      ]
    },
    {
      "cell_type": "markdown",
      "metadata": {
        "id": "HEPPjjyAuZ23"
      },
      "source": [
        "# 데이터 준비"
      ]
    },
    {
      "cell_type": "code",
      "metadata": {
        "id": "MIbvLk1hFAvq"
      },
      "source": [
        "import torchvision\r\n",
        "from torchvision import transforms\r\n",
        "\r\n",
        "from torch.utils.data import DataLoader"
      ],
      "execution_count": 33,
      "outputs": []
    },
    {
      "cell_type": "code",
      "metadata": {
        "id": "OKHvDvq3R3eL",
        "colab": {
          "base_uri": "https://localhost:8080/"
        },
        "outputId": "ab83a06f-abf1-482d-9d66-fd94391364f1"
      },
      "source": [
        "from matplotlib.pyplot import imshow # 이미지 보여주는 함수\r\n",
        "%matplotlib inline # matplotlib의 출력값이 쥬피터노트북에 보여지도록 함"
      ],
      "execution_count": 34,
      "outputs": [
        {
          "output_type": "stream",
          "text": [
            "UsageError: unrecognized arguments: # matplotlib의 출력값이 쥬피터노트북에 보여지도록 함\n"
          ],
          "name": "stderr"
        }
      ]
    },
    {
      "cell_type": "code",
      "metadata": {
        "colab": {
          "base_uri": "https://localhost:8080/"
        },
        "id": "HGOI3XnuR6gw",
        "outputId": "0ae707cf-58a0-42a5-c5ff-c80a75fdc7e3"
      },
      "source": [
        "!ls"
      ],
      "execution_count": 35,
      "outputs": [
        {
          "output_type": "stream",
          "text": [
            "gdrive\tsample_data\n"
          ],
          "name": "stdout"
        }
      ]
    },
    {
      "cell_type": "code",
      "metadata": {
        "id": "fJZcPpx2SppX",
        "colab": {
          "base_uri": "https://localhost:8080/"
        },
        "outputId": "34520690-8832-4fe2-8b8e-dde3159bb7bc"
      },
      "source": [
        "from google.colab import drive\n",
        "drive.mount('/content/gdrive')"
      ],
      "execution_count": 36,
      "outputs": [
        {
          "output_type": "stream",
          "text": [
            "Drive already mounted at /content/gdrive; to attempt to forcibly remount, call drive.mount(\"/content/gdrive\", force_remount=True).\n"
          ],
          "name": "stdout"
        }
      ]
    },
    {
      "cell_type": "code",
      "metadata": {
        "id": "yqpxBLy9pdGX"
      },
      "source": [
        "# 모두 동일하게 64*428로 Resize, image에서 텐서로 변환\r\n",
        "trans = transforms.Compose([\r\n",
        "    transforms.Resize((64,128)),\r\n",
        "    transforms.ToTensor()\r\n",
        "])\r\n",
        "\r\n",
        "train_data = torchvision.datasets.ImageFolder(root='./gdrive/MyDrive/origin_image', transform=trans)"
      ],
      "execution_count": 37,
      "outputs": []
    },
    {
      "cell_type": "code",
      "metadata": {
        "colab": {
          "base_uri": "https://localhost:8080/"
        },
        "id": "2mFhiErKNal9",
        "outputId": "5bcf25a7-fd43-4327-dc78-a56da1d0a848"
      },
      "source": [
        "print(train_data)"
      ],
      "execution_count": 38,
      "outputs": [
        {
          "output_type": "stream",
          "text": [
            "Dataset ImageFolder\n",
            "    Number of datapoints: 76\n",
            "    Root location: ./gdrive/MyDrive/origin_image\n",
            "    StandardTransform\n",
            "Transform: Compose(\n",
            "               Resize(size=(64, 128), interpolation=PIL.Image.BILINEAR)\n",
            "               ToTensor()\n",
            "           )\n"
          ],
          "name": "stdout"
        }
      ]
    },
    {
      "cell_type": "code",
      "metadata": {
        "id": "AqxrGpHyLjAl"
      },
      "source": [
        "# for num, value in enumerate(train_data):\r\n",
        "#     print(num)\r\n",
        "#     data, label = value \r\n",
        "#     print(data, label)\r\n",
        "\r\n",
        "#     if num == 3 : \r\n",
        "#         break\r\n",
        "    \r\n",
        "#     # if(label == 0):\r\n",
        "#     #     data.save('custom_data/train_data/gray/%d_%d.jpeg'%(num, label))\r\n",
        "#     # else:\r\n",
        "#     #     data.save('custom_data/train_data/red/%d_%d.jpeg'%(num, label))"
      ],
      "execution_count": 39,
      "outputs": []
    },
    {
      "cell_type": "markdown",
      "metadata": {
        "id": "tWLAyW44sY2i"
      },
      "source": [
        "# CNN model 적용"
      ]
    },
    {
      "cell_type": "code",
      "metadata": {
        "id": "TjTWZWMiuP3v"
      },
      "source": [
        "import torch\r\n",
        "import torch.nn as nn\r\n",
        "import torch.nn.functional as F\r\n",
        "\r\n",
        "import torch.optim as optim\r\n",
        "from torch.utils.data import DataLoader\r\n",
        "\r\n",
        "import torchvision\r\n",
        "import torchvision.transforms as transforms"
      ],
      "execution_count": 40,
      "outputs": []
    },
    {
      "cell_type": "code",
      "metadata": {
        "id": "DFQk3lVdvATR"
      },
      "source": [
        "device = 'cuda' if torch.cuda.is_available() else 'cpu'\r\n",
        "\r\n",
        "torch.manual_seed(777)\r\n",
        "if device =='cuda':\r\n",
        "    torch.cuda.manual_seed_all(777)"
      ],
      "execution_count": 41,
      "outputs": []
    },
    {
      "cell_type": "code",
      "metadata": {
        "id": "HaorzyTYv56M"
      },
      "source": [
        "# 데이터 로더 생성\r\n",
        "data_loader = DataLoader(dataset = train_data, batch_size = 9, shuffle = True, num_workers=2)"
      ],
      "execution_count": 42,
      "outputs": []
    },
    {
      "cell_type": "code",
      "metadata": {
        "id": "glpVZ6_iwOhJ"
      },
      "source": [
        "class CNN(nn.Module) :\r\n",
        "    def __init__(self) :\r\n",
        "        super(CNN, self).__init__()\r\n",
        "        \r\n",
        "        self.layer1 = nn.Sequential(\r\n",
        "            nn.Conv2d(3, 6, 5),\r\n",
        "            nn.ReLU(),\r\n",
        "            nn.MaxPool2d(2),\r\n",
        "        )\r\n",
        "\r\n",
        "        self.layer2 = nn.Sequential(\r\n",
        "            nn.Conv2d(6, 16, 5),\r\n",
        "            nn.ReLU(),\r\n",
        "            nn.MaxPool2d(2)\r\n",
        "        )\r\n",
        "\r\n",
        "        self.layer3 = nn.Sequential(\r\n",
        "            nn.Linear(16*13*29, 120),\r\n",
        "            nn.ReLU(),\r\n",
        "            nn.Linear(120, 2)\r\n",
        "        )\r\n",
        "        pass # init\r\n",
        "\r\n",
        "\r\n",
        "    def forward(self, x) :\r\n",
        "        out = self.layer1(x)\r\n",
        "        out = self.layer2(out)\r\n",
        "        out = out.view(out.shape[0], -1)\r\n",
        "        out = self.layer3(out)\r\n",
        "        return out # 최종적으로는 점수 값을 예측값으로 뱉어줄 것이다. \r\n",
        "        pass # forward"
      ],
      "execution_count": 43,
      "outputs": []
    },
    {
      "cell_type": "code",
      "metadata": {
        "id": "OvOqBWMCxtj8"
      },
      "source": [
        "# testing\r\n",
        "net = CNN().to(device)\r\n",
        "test_input = (torch.Tensor(3, 3, 64, 128)).to(device)\r\n",
        "test_out = net(test_input)"
      ],
      "execution_count": 44,
      "outputs": []
    },
    {
      "cell_type": "code",
      "metadata": {
        "id": "K6SD7jBpy6-N"
      },
      "source": [
        "# optimizer & loss_function\r\n",
        "optimizer = optim.Adam(net.parameters(), lr=0.00005)\r\n",
        "loss_func = nn.CrossEntropyLoss().to(device)"
      ],
      "execution_count": 45,
      "outputs": []
    },
    {
      "cell_type": "code",
      "metadata": {
        "colab": {
          "base_uri": "https://localhost:8080/"
        },
        "id": "lWkn715jyXpC",
        "outputId": "47961b84-2443-4546-c08a-053774da00f4"
      },
      "source": [
        "total_batch = len(data_loader)\r\n",
        "print(total_batch)\r\n",
        "\r\n",
        "epochs = 10\r\n",
        "for epoch in range(epochs) :\r\n",
        "    avg_cost = 0.0\r\n",
        "\r\n",
        "    for num, data in enumerate(data_loader) :\r\n",
        "        imgs, labels = data\r\n",
        "        imgs = imgs.to(device)\r\n",
        "        labels = labels.to(device)\r\n",
        "\r\n",
        "        optimizer.zero_grad()\r\n",
        "        out = net(imgs)\r\n",
        "        loss = loss_func(out, labels)\r\n",
        "        loss.backward()\r\n",
        "        optimizer.step()\r\n",
        "\r\n",
        "        avg_cost += loss / total_batch\r\n",
        "        pass # iteration\r\n",
        "\r\n",
        "    print(f'Epoch : {epoch+1} | cost : {avg_cost}')\r\n",
        "    pass # epoch\r\n",
        "\r\n",
        "print('Learning Finished!')"
      ],
      "execution_count": 46,
      "outputs": [
        {
          "output_type": "stream",
          "text": [
            "9\n",
            "Epoch : 1 | cost : 0.6344156265258789\n",
            "Epoch : 2 | cost : 0.592932403087616\n",
            "Epoch : 3 | cost : 0.511462926864624\n",
            "Epoch : 4 | cost : 0.4589909315109253\n",
            "Epoch : 5 | cost : 0.44837120175361633\n",
            "Epoch : 6 | cost : 0.39433079957962036\n",
            "Epoch : 7 | cost : 0.32918015122413635\n",
            "Epoch : 8 | cost : 0.2597030997276306\n",
            "Epoch : 9 | cost : 0.22342759370803833\n",
            "Epoch : 10 | cost : 0.15888802707195282\n",
            "Learning Finished!\n"
          ],
          "name": "stdout"
        }
      ]
    },
    {
      "cell_type": "code",
      "metadata": {
        "id": "X837oTgKzrYg"
      },
      "source": [
        "# model을 save\r\n",
        "torch.save(net.state_dict(), \"./gdrive/MyDrive/origin_image/model_cnn.pth\")"
      ],
      "execution_count": 47,
      "outputs": []
    },
    {
      "cell_type": "code",
      "metadata": {
        "colab": {
          "base_uri": "https://localhost:8080/"
        },
        "id": "hcDT-0GhFybD",
        "outputId": "1f5931a3-1dcf-4628-a5bf-d52bebb35c27"
      },
      "source": [
        "# 저장된 모델을 불러와 사용\r\n",
        "new_net = CNN().to(device)\r\n",
        "new_net.load_state_dict(torch.load('./gdrive/MyDrive/origin_image/model_cnn.pth'))"
      ],
      "execution_count": 48,
      "outputs": [
        {
          "output_type": "execute_result",
          "data": {
            "text/plain": [
              "<All keys matched successfully>"
            ]
          },
          "metadata": {
            "tags": []
          },
          "execution_count": 48
        }
      ]
    },
    {
      "cell_type": "code",
      "metadata": {
        "colab": {
          "base_uri": "https://localhost:8080/"
        },
        "id": "QIb7Wh6WG5fN",
        "outputId": "c2523be2-ec0e-4dc6-efab-4f27490649ce"
      },
      "source": [
        "print(net.layer1[0])\r\n",
        "print(new_net.layer1[0])\r\n",
        "\r\n",
        "print(net.layer1[0].weight[0][0][0])\r\n",
        "print(new_net.layer1[0].weight[0][0][0])\r\n",
        "\r\n",
        "net.layer1[0].weight[0] == new_net.layer1[0].weight[0]"
      ],
      "execution_count": 49,
      "outputs": [
        {
          "output_type": "stream",
          "text": [
            "Conv2d(3, 6, kernel_size=(5, 5), stride=(1, 1))\n",
            "Conv2d(3, 6, kernel_size=(5, 5), stride=(1, 1))\n",
            "tensor([-0.0933,  0.0011, -0.0193, -0.0234,  0.0910], grad_fn=<SelectBackward>)\n",
            "tensor([-0.0933,  0.0011, -0.0193, -0.0234,  0.0910], grad_fn=<SelectBackward>)\n"
          ],
          "name": "stdout"
        },
        {
          "output_type": "execute_result",
          "data": {
            "text/plain": [
              "tensor([[[True, True, True, True, True],\n",
              "         [True, True, True, True, True],\n",
              "         [True, True, True, True, True],\n",
              "         [True, True, True, True, True],\n",
              "         [True, True, True, True, True]],\n",
              "\n",
              "        [[True, True, True, True, True],\n",
              "         [True, True, True, True, True],\n",
              "         [True, True, True, True, True],\n",
              "         [True, True, True, True, True],\n",
              "         [True, True, True, True, True]],\n",
              "\n",
              "        [[True, True, True, True, True],\n",
              "         [True, True, True, True, True],\n",
              "         [True, True, True, True, True],\n",
              "         [True, True, True, True, True],\n",
              "         [True, True, True, True, True]]])"
            ]
          },
          "metadata": {
            "tags": []
          },
          "execution_count": 49
        }
      ]
    },
    {
      "cell_type": "code",
      "metadata": {
        "id": "7ymj_jzlHE3g"
      },
      "source": [
        "# 학습시킨 모델을 테스트\r\n",
        "trans=torchvision.transforms.Compose([\r\n",
        "    transforms.Resize((64,128)),\r\n",
        "    transforms.ToTensor()\r\n",
        "])\r\n",
        "test_data = torchvision.datasets.ImageFolder(root='./gdrive/MyDrive/test_image', transform=trans)"
      ],
      "execution_count": 50,
      "outputs": []
    },
    {
      "cell_type": "code",
      "metadata": {
        "id": "ynxq0oaDIR-I"
      },
      "source": [
        "test_set = DataLoader(dataset = test_data, batch_size = len(test_data))"
      ],
      "execution_count": 51,
      "outputs": []
    },
    {
      "cell_type": "code",
      "metadata": {
        "colab": {
          "base_uri": "https://localhost:8080/"
        },
        "id": "NkaCE-KeKQyr",
        "outputId": "4b9a362b-8bf8-43df-cf4c-2a36ea2855d6"
      },
      "source": [
        "with torch.no_grad():\r\n",
        "    for num, data in enumerate(test_set):\r\n",
        "        imgs, label = data\r\n",
        "        imgs = imgs.to(device)\r\n",
        "        label = label.to(device)\r\n",
        "        \r\n",
        "        prediction = net(imgs)\r\n",
        "        print(prediction)\r\n",
        "        print(torch.argmax(prediction, 1))\r\n",
        "        \r\n",
        "        correct_prediction = torch.argmax(prediction, 1) == label\r\n",
        "        \r\n",
        "        accuracy = correct_prediction.float().mean()\r\n",
        "        print('Accuracy:', accuracy.item())"
      ],
      "execution_count": 52,
      "outputs": [
        {
          "output_type": "stream",
          "text": [
            "tensor([[ 1.1583, -0.4421],\n",
            "        [-1.5763,  1.6264]])\n",
            "tensor([0, 1])\n",
            "Accuracy: 1.0\n"
          ],
          "name": "stdout"
        }
      ]
    },
    {
      "cell_type": "code",
      "metadata": {
        "id": "lDh_QHsOV3mW"
      },
      "source": [
        "import matplotlib.pyplot as plt"
      ],
      "execution_count": 53,
      "outputs": []
    },
    {
      "cell_type": "code",
      "metadata": {
        "colab": {
          "base_uri": "https://localhost:8080/",
          "height": 1000
        },
        "id": "JNw2gUx5QIv2",
        "outputId": "fd47015f-deae-48c0-b982-caae912616dc"
      },
      "source": [
        "for datas, labels in test_set:  # 텐서 두 개 담은 리스트 \r\n",
        "    print('label : ', labels)\r\n",
        "    for i, d in enumerate(datas) :\r\n",
        "        print(d)\r\n",
        "        print(d.shape)\r\n",
        "        d = d.permute(1, 2, 0)\r\n",
        "        print(d.shape)\r\n",
        "        plt.imshow(d)\r\n",
        "        plt.show()"
      ],
      "execution_count": 54,
      "outputs": [
        {
          "output_type": "stream",
          "text": [
            "label :  tensor([0, 1])\n",
            "tensor([[[0.9961, 0.9961, 0.9961,  ..., 0.9961, 0.9961, 0.9961],\n",
            "         [0.9961, 0.9961, 0.9961,  ..., 0.9961, 0.9961, 0.9961],\n",
            "         [0.9961, 0.9961, 0.9961,  ..., 0.9961, 0.9961, 0.9961],\n",
            "         ...,\n",
            "         [0.9961, 0.9961, 0.9961,  ..., 0.9961, 0.9961, 0.9961],\n",
            "         [0.9961, 0.9961, 0.9961,  ..., 0.9961, 0.9961, 0.9961],\n",
            "         [0.9961, 0.9961, 0.9961,  ..., 0.9961, 0.9961, 0.9961]],\n",
            "\n",
            "        [[0.9961, 0.9961, 0.9961,  ..., 0.9961, 0.9961, 0.9961],\n",
            "         [0.9961, 0.9961, 0.9961,  ..., 0.9961, 0.9961, 0.9961],\n",
            "         [0.9961, 0.9961, 0.9961,  ..., 0.9961, 0.9961, 0.9961],\n",
            "         ...,\n",
            "         [0.9961, 0.9961, 0.9961,  ..., 0.9961, 0.9961, 0.9961],\n",
            "         [0.9961, 0.9961, 0.9961,  ..., 0.9961, 0.9961, 0.9961],\n",
            "         [0.9961, 0.9961, 0.9961,  ..., 0.9961, 0.9961, 0.9961]],\n",
            "\n",
            "        [[0.9961, 0.9961, 0.9961,  ..., 0.9961, 0.9961, 0.9961],\n",
            "         [0.9961, 0.9961, 0.9961,  ..., 0.9961, 0.9961, 0.9961],\n",
            "         [0.9961, 0.9961, 0.9961,  ..., 0.9961, 0.9961, 0.9961],\n",
            "         ...,\n",
            "         [0.9961, 0.9961, 0.9961,  ..., 0.9961, 0.9961, 0.9961],\n",
            "         [0.9961, 0.9961, 0.9961,  ..., 0.9961, 0.9961, 0.9961],\n",
            "         [0.9961, 0.9961, 0.9961,  ..., 0.9961, 0.9961, 0.9961]]])\n",
            "torch.Size([3, 64, 128])\n",
            "torch.Size([64, 128, 3])\n"
          ],
          "name": "stdout"
        },
        {
          "output_type": "display_data",
          "data": {
            "image/png": "[encoded data removed]",
            "text/plain": [
              "<Figure size 432x288 with 1 Axes>"
            ]
          },
          "metadata": {
            "tags": [],
            "needs_background": "light"
          }
        },
        {
          "output_type": "stream",
          "text": [
            "tensor([[[0.0863, 0.0863, 0.0902,  ..., 0.0824, 0.0902, 0.0863],\n",
            "         [0.0902, 0.0902, 0.0902,  ..., 0.0863, 0.0902, 0.0863],\n",
            "         [0.0941, 0.0941, 0.0941,  ..., 0.0941, 0.0941, 0.0902],\n",
            "         ...,\n",
            "         [0.5412, 0.5647, 0.6275,  ..., 0.4902, 0.5176, 0.5098],\n",
            "         [0.5137, 0.4745, 0.5176,  ..., 0.4706, 0.5255, 0.5529],\n",
            "         [0.3922, 0.4118, 0.4078,  ..., 0.4667, 0.5059, 0.5569]],\n",
            "\n",
            "        [[0.0627, 0.0627, 0.0667,  ..., 0.0471, 0.0588, 0.0627],\n",
            "         [0.0667, 0.0627, 0.0667,  ..., 0.0510, 0.0627, 0.0627],\n",
            "         [0.0706, 0.0706, 0.0706,  ..., 0.0510, 0.0627, 0.0667],\n",
            "         ...,\n",
            "         [0.5098, 0.5020, 0.5686,  ..., 0.4431, 0.4902, 0.4980],\n",
            "         [0.4863, 0.4549, 0.5059,  ..., 0.3490, 0.4118, 0.4549],\n",
            "         [0.2745, 0.3098, 0.3255,  ..., 0.3412, 0.3765, 0.4196]],\n",
            "\n",
            "        [[0.0784, 0.0784, 0.0784,  ..., 0.0588, 0.0706, 0.0706],\n",
            "         [0.0784, 0.0784, 0.0784,  ..., 0.0627, 0.0706, 0.0706],\n",
            "         [0.0824, 0.0784, 0.0824,  ..., 0.0627, 0.0745, 0.0745],\n",
            "         ...,\n",
            "         [0.4706, 0.4392, 0.5098,  ..., 0.3294, 0.4314, 0.4745],\n",
            "         [0.4863, 0.4627, 0.5294,  ..., 0.1098, 0.1608, 0.2157],\n",
            "         [0.2157, 0.2706, 0.2941,  ..., 0.0941, 0.0980, 0.1294]]])\n",
            "torch.Size([3, 64, 128])\n",
            "torch.Size([64, 128, 3])\n"
          ],
          "name": "stdout"
        },
        {
          "output_type": "display_data",
          "data": {
            "image/png": "[encoded data removed]",
            "text/plain": [
              "<Figure size 432x288 with 1 Axes>"
            ]
          },
          "metadata": {
            "tags": [],
            "needs_background": "light"
          }
        }
      ]
    }
  ]
}