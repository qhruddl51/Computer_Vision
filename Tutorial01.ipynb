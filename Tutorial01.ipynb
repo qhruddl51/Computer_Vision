{
  "nbformat": 4,
  "nbformat_minor": 0,
  "metadata": {
    "colab": {
      "name": "Tutorial01",
      "provenance": [],
      "collapsed_sections": [],
      "authorship_tag": "ABX9TyPSCQkmNKBmsutPgU5VLBER",
      "include_colab_link": true
    },
    "kernelspec": {
      "name": "python3",
      "display_name": "Python 3"
    }
  },
  "cells": [
    {
      "cell_type": "markdown",
      "metadata": {
        "id": "view-in-github",
        "colab_type": "text"
      },
      "source": [
        "<a href=\"https://colab.research.google.com/github/qhruddl51/Computer_Vision/blob/main/Tutorial01.ipynb\" target=\"_parent\"><img src=\"https://colab.research.google.com/assets/colab-badge.svg\" alt=\"Open In Colab\"/></a>"
      ]
    },
    {
      "cell_type": "markdown",
      "metadata": {
        "id": "m4KFWLiCQNSh"
      },
      "source": [
        "연결 : 서버를 통해서 파이썬 3에 구글 컴퓨터 엔진으로 연결이 되서 실행을 시키고 그 결과가 여기에 나오는 것이다.\r\n",
        "따라서 코랩은 브라우저가 실행되는 모든 컴퓨터에서 가능하다. "
      ]
    },
    {
      "cell_type": "code",
      "metadata": {
        "colab": {
          "base_uri": "https://localhost:8080/"
        },
        "id": "7KgyYJfPP4x4",
        "outputId": "02a887d4-c17f-46bf-f8ca-8a0f5402065a"
      },
      "source": [
        "import sys\r\n",
        "\r\n",
        "print(sys.version)"
      ],
      "execution_count": 4,
      "outputs": [
        {
          "output_type": "stream",
          "text": [
            "3.6.9 (default, Oct  8 2020, 12:12:24) \n",
            "[GCC 8.4.0]\n"
          ],
          "name": "stdout"
        }
      ]
    },
    {
      "cell_type": "markdown",
      "metadata": {
        "id": "FqI0zcbbQ3Yl"
      },
      "source": [
        "# [컴퓨터비전 특강]을 위한 Colab, python 튜토리얼\r\n",
        "\r\n",
        "**김보경**입니다. \r\n",
        "\r\n",
        "본 자료는 2020년 1학기 대학원 정보과학과 컴퓨터비전특강의 실습을 위해 Colab과 Python의 최소한의 기초 내용을 학습하기 위한 튜토리얼 자료이다."
      ]
    },
    {
      "cell_type": "markdown",
      "metadata": {
        "id": "rEkMzzNcRsg6"
      },
      "source": [
        "# 0. Colaboratory에 오신 것을 환영합니다. \r\n",
        "\r\n",
        "* 시작홈페이지를 확인하기 https://colab.research.google.com/notebooks/intro.ipynb\r\n",
        "\r\n",
        "* 구글 드라이브에서 Colab 문서를 새로 만들기\r\n",
        "\r\n",
        "* 구글 드라이브에서 기본 앱 연결하기\r\n",
        "* 런타임 유형 변경 (런타임 -> 런타임유형변경)"
      ]
    },
    {
      "cell_type": "markdown",
      "metadata": {
        "id": "u8SpAOz0UL8c"
      },
      "source": [
        "# 1. Python 기초"
      ]
    },
    {
      "cell_type": "markdown",
      "metadata": {
        "id": "7zjcyvQbUUNL"
      },
      "source": [
        "## 1.1 Python의 기본 문법"
      ]
    },
    {
      "cell_type": "markdown",
      "metadata": {
        "id": "17kvcVofUT1r"
      },
      "source": [
        "### 1) 들여쓰기(indentation)"
      ]
    },
    {
      "cell_type": "markdown",
      "metadata": {
        "id": "6MgsJPXFUg40"
      },
      "source": [
        "* 일반적으로 **들여쓰기**는 소스코드의 가독성을 위해 사용한다. \r\n",
        "```\r\n",
        "// c programming \r\n",
        "int main(void) {int a = 0; print(\"hello world\\n\");}\r\n",
        "```\r\n",
        "```\r\n",
        "// c programming \r\n",
        "int main(void) \r\n",
        "{\r\n",
        "  int a = 0;\r\n",
        "\r\n",
        "  print(\"hello world\\n\");\r\n",
        "}\r\n",
        "```\r\n",
        "\r\n",
        "-> c에서는 indentation을 안하더라도 컴파일하는 데는 문제가 없다.\r\n",
        "\r\n",
        "* 하지만 Python에서는 **들여쓰기**를 문법적으로 *반드시*  지켜야 한다.\r\n",
        "\r\n",
        "* 코드 블럭을 구성하기 위해 `if`, `for`, `class`, `def` 등을 사용할 때 `;` 다음 줄에는 반드시 **들여쓰기**를 반드시 해야 한다."
      ]
    },
    {
      "cell_type": "code",
      "metadata": {
        "colab": {
          "base_uri": "https://localhost:8080/"
        },
        "id": "yjgItTvFRHoC",
        "outputId": "c65f2256-a116-4706-8eaf-ad07c4db6699"
      },
      "source": [
        "sum = 0 \r\n",
        "for i in range(1,11) :\r\n",
        "    sum = sum + i\r\n",
        "    print(i)\r\n",
        "\r\n",
        "print(f'sum from 1 to 10 is {sum}')"
      ],
      "execution_count": 8,
      "outputs": [
        {
          "output_type": "stream",
          "text": [
            "1\n",
            "2\n",
            "3\n",
            "4\n",
            "5\n",
            "6\n",
            "7\n",
            "8\n",
            "9\n",
            "10\n",
            "sum from 1 to 10 is 55\n"
          ],
          "name": "stdout"
        }
      ]
    },
    {
      "cell_type": "markdown",
      "metadata": {
        "id": "Np_bdIWdXfJ4"
      },
      "source": [
        "* 들여쓰기는 몇 칸하든 상관없지만, 다만 같은 블록내에서는 같은 양의 들여쓰기를 해야 하며, 공백과 탭을 혼용하면 안된다."
      ]
    },
    {
      "cell_type": "code",
      "metadata": {
        "colab": {
          "base_uri": "https://localhost:8080/",
          "height": 131
        },
        "id": "6euwL5NlS5yl",
        "outputId": "06b4d9cb-e94c-4558-d1f6-5cf412228d91"
      },
      "source": [
        "sum = 0 \r\n",
        "for i in range(1,11) :\r\n",
        "    sum = sum + i\r\n",
        "       print(i)\r\n",
        "\r\n",
        "print(f'sum from 1 to 10 is {sum}')"
      ],
      "execution_count": 9,
      "outputs": [
        {
          "output_type": "error",
          "ename": "IndentationError",
          "evalue": "ignored",
          "traceback": [
            "\u001b[0;36m  File \u001b[0;32m\"<ipython-input-9-89343daa949f>\"\u001b[0;36m, line \u001b[0;32m4\u001b[0m\n\u001b[0;31m    print(i)\u001b[0m\n\u001b[0m    ^\u001b[0m\n\u001b[0;31mIndentationError\u001b[0m\u001b[0;31m:\u001b[0m unexpected indent\n"
          ]
        }
      ]
    },
    {
      "cell_type": "code",
      "metadata": {
        "colab": {
          "base_uri": "https://localhost:8080/"
        },
        "id": "zM1W_D-CX_Zg",
        "outputId": "fc4c81ff-172a-48d6-97c9-6df5f211105d"
      },
      "source": [
        "for i in range(1,6) :\r\n",
        "      print(i)\r\n",
        "\r\n",
        "for i in range(0,5) :\r\n",
        "    print(i+1)"
      ],
      "execution_count": 11,
      "outputs": [
        {
          "output_type": "stream",
          "text": [
            "1\n",
            "2\n",
            "3\n",
            "4\n",
            "5\n",
            "1\n",
            "2\n",
            "3\n",
            "4\n",
            "5\n"
          ],
          "name": "stdout"
        }
      ]
    },
    {
      "cell_type": "code",
      "metadata": {
        "id": "e0Rj9bR5YHQL"
      },
      "source": [
        ""
      ],
      "execution_count": null,
      "outputs": []
    },
    {
      "cell_type": "markdown",
      "metadata": {
        "id": "T4SI8c1uYYMK"
      },
      "source": [
        "## 2) 주석 (Comments)\r\n",
        "* 코드 상의 어디에서든 #을 사용하면 그 이후부터는 주석이 된다. "
      ]
    },
    {
      "cell_type": "code",
      "metadata": {
        "id": "k9XocVrRYhVc"
      },
      "source": [
        "# svap함수의 정의 \r\n",
        "def svap(a,b) :\r\n",
        "    a, b = b, a # 값을 서로 바꾼다.\r\n",
        "    return a, b"
      ],
      "execution_count": 12,
      "outputs": []
    },
    {
      "cell_type": "code",
      "metadata": {
        "colab": {
          "base_uri": "https://localhost:8080/"
        },
        "id": "aVigz94iYrdN",
        "outputId": "99f843ee-6b5c-496d-906f-1b5018f3316e"
      },
      "source": [
        "a, b = 1, 2\r\n",
        "a, b = svap(a, b)\r\n",
        "print(a, b)"
      ],
      "execution_count": 14,
      "outputs": [
        {
          "output_type": "stream",
          "text": [
            "2 1\n"
          ],
          "name": "stdout"
        }
      ]
    },
    {
      "cell_type": "code",
      "metadata": {
        "id": "m-V2Fgi1Yx4i"
      },
      "source": [
        "a = [1,2,3]\r\n",
        "a.append? # document를 보여준다. (Docstring)"
      ],
      "execution_count": 15,
      "outputs": []
    },
    {
      "cell_type": "code",
      "metadata": {
        "id": "uTwHuN8PZUsj"
      },
      "source": [
        "# svap함수의 정의 \r\n",
        "def svap(a,b) :\r\n",
        "    \"\"\"\r\n",
        "    a와 b의 값을 서로 바꾼다.\r\n",
        "    사용 예) a, b = svap(a, b)\r\n",
        "    \"\"\"\r\n",
        "\r\n",
        "    a, b = b, a # 값을 서로 바꾼다.\r\n",
        "    return a, b"
      ],
      "execution_count": 16,
      "outputs": []
    },
    {
      "cell_type": "code",
      "metadata": {
        "id": "8TNiLNkiZwAQ"
      },
      "source": [
        "svap?"
      ],
      "execution_count": 17,
      "outputs": []
    },
    {
      "cell_type": "markdown",
      "metadata": {
        "id": "l6R5E7SfZ_Dm"
      },
      "source": [
        "### 3) 세미콜론"
      ]
    },
    {
      "cell_type": "markdown",
      "metadata": {
        "id": "n243kyFxaFJH"
      },
      "source": [
        "* 다른 많은 프로그래밍 언어에서는 문장이 끝날 때 ;을 사용한다.\r\n",
        "* 하지만 Python에서는 세미콜론(`;`)이 필요없다.  \r\n",
        "* 세미콜론을 붙여도 오류가 나지는 않으며, 여러 문장을 한줄로 이어서 작성할 때는 세미콜론을 사용한다. "
      ]
    },
    {
      "cell_type": "code",
      "metadata": {
        "colab": {
          "base_uri": "https://localhost:8080/",
          "height": 200
        },
        "id": "KSQjjgkvZx-L",
        "outputId": "c31eca37-7331-43ee-d46a-3a8ae1333d59"
      },
      "source": [
        "print('Hello'); print('World'); print('k : ', k)"
      ],
      "execution_count": 20,
      "outputs": [
        {
          "output_type": "stream",
          "text": [
            "Hello\n",
            "World\n"
          ],
          "name": "stdout"
        },
        {
          "output_type": "error",
          "ename": "NameError",
          "evalue": "ignored",
          "traceback": [
            "\u001b[0;31m---------------------------------------------------------------------------\u001b[0m",
            "\u001b[0;31mNameError\u001b[0m                                 Traceback (most recent call last)",
            "\u001b[0;32m<ipython-input-20-8e0558104680>\u001b[0m in \u001b[0;36m<module>\u001b[0;34m()\u001b[0m\n\u001b[0;32m----> 1\u001b[0;31m \u001b[0mprint\u001b[0m\u001b[0;34m(\u001b[0m\u001b[0;34m'Hello'\u001b[0m\u001b[0;34m)\u001b[0m\u001b[0;34m;\u001b[0m \u001b[0mprint\u001b[0m\u001b[0;34m(\u001b[0m\u001b[0;34m'World'\u001b[0m\u001b[0;34m)\u001b[0m\u001b[0;34m;\u001b[0m \u001b[0mprint\u001b[0m\u001b[0;34m(\u001b[0m\u001b[0;34m'k : '\u001b[0m\u001b[0;34m,\u001b[0m \u001b[0mk\u001b[0m\u001b[0;34m)\u001b[0m\u001b[0;34m\u001b[0m\u001b[0;34m\u001b[0m\u001b[0m\n\u001b[0m",
            "\u001b[0;31mNameError\u001b[0m: name 'k' is not defined"
          ]
        }
      ]
    },
    {
      "cell_type": "markdown",
      "metadata": {
        "id": "J1aMiBtZa2cB"
      },
      "source": [
        "* Colab에서는 셀이 독립적이지만, 런타임 환경은 공유한다. 변수, ..."
      ]
    },
    {
      "cell_type": "markdown",
      "metadata": {
        "id": "A5DyOu3VbBHd"
      },
      "source": [
        "### 4) `if` 조건문"
      ]
    },
    {
      "cell_type": "code",
      "metadata": {
        "colab": {
          "base_uri": "https://localhost:8080/"
        },
        "id": "ueNS00qwbILF",
        "outputId": "1a90f4d3-abfc-45b8-f4c0-0c3410ed3412"
      },
      "source": [
        "color = 'purple' \r\n",
        "\r\n",
        "if color == 'red' :\r\n",
        "    print('붉은색입니다.')\r\n",
        " \r\n",
        " \r\n",
        "if color == 'green' :\r\n",
        "    print('초록색입니다.')\r\n",
        "elif colof == \"blue\" :\r\n",
        "    print('파란색입니다.')\r\n",
        "else : \r\n",
        "    print(\"모르는 색입니다.\") # if~elif~else까지 하나의 실행흐름이다."
      ],
      "execution_count": 23,
      "outputs": [
        {
          "output_type": "stream",
          "text": [
            "모르는 색입니다.\n"
          ],
          "name": "stdout"
        }
      ]
    },
    {
      "cell_type": "code",
      "metadata": {
        "id": "oGFsABajbdYh"
      },
      "source": [
        "if a == True : \r\n",
        "    print('1')\r\n",
        "\r\n",
        "if a == False : \r\n",
        "    print('0')"
      ],
      "execution_count": 29,
      "outputs": []
    },
    {
      "cell_type": "markdown",
      "metadata": {
        "id": "RldGeZcHczra"
      },
      "source": [
        "### 5) `while` 문"
      ]
    },
    {
      "cell_type": "code",
      "metadata": {
        "colab": {
          "base_uri": "https://localhost:8080/"
        },
        "id": "zj85kfDhcHOK",
        "outputId": "4243fa95-d139-4aac-ec8a-0d572af1635c"
      },
      "source": [
        "i = 0\r\n",
        "while i<10 :\r\n",
        "    if i > 5 :\r\n",
        "        break\r\n",
        "    print(i) \r\n",
        "    i = i+1"
      ],
      "execution_count": 32,
      "outputs": [
        {
          "output_type": "stream",
          "text": [
            "0\n",
            "1\n",
            "2\n",
            "3\n",
            "4\n",
            "5\n"
          ],
          "name": "stdout"
        }
      ]
    },
    {
      "cell_type": "code",
      "metadata": {
        "colab": {
          "base_uri": "https://localhost:8080/"
        },
        "id": "avByhMaUdLcx",
        "outputId": "9859bd30-325e-4938-8f02-acbdaf3433bf"
      },
      "source": [
        "a = [6,7,8,9,10]\r\n",
        "\r\n",
        "while a : # a is not empty\r\n",
        "    print(a.pop()) # 마지막 원소를 제거하고 return한다."
      ],
      "execution_count": 36,
      "outputs": [
        {
          "output_type": "stream",
          "text": [
            "10\n",
            "9\n",
            "8\n",
            "7\n",
            "6\n"
          ],
          "name": "stdout"
        }
      ]
    },
    {
      "cell_type": "code",
      "metadata": {
        "id": "glmr0u39dXTu"
      },
      "source": [
        "a.pop?"
      ],
      "execution_count": 34,
      "outputs": []
    },
    {
      "cell_type": "code",
      "metadata": {
        "colab": {
          "base_uri": "https://localhost:8080/"
        },
        "id": "DwndpYHRdwl9",
        "outputId": "97fe98c1-1be6-44eb-fa01-f31142a45e8d"
      },
      "source": [
        "a = [1,2,3,4,5,6]\r\n",
        "\r\n",
        "while True : \r\n",
        "    x =  a.pop()\r\n",
        "    if x == 3  :\r\n",
        "        break\r\n",
        "    print(x) \r\n"
      ],
      "execution_count": 37,
      "outputs": [
        {
          "output_type": "stream",
          "text": [
            "6\n",
            "5\n",
            "4\n"
          ],
          "name": "stdout"
        }
      ]
    },
    {
      "cell_type": "markdown",
      "metadata": {
        "id": "sRnIWdTUeISy"
      },
      "source": [
        "### 6) `for` 문"
      ]
    },
    {
      "cell_type": "code",
      "metadata": {
        "id": "jeYJ9rugeF1v"
      },
      "source": [
        "alphabets = {'a', 'a', 'a', 'c', 'b', 'd'}"
      ],
      "execution_count": 41,
      "outputs": []
    },
    {
      "cell_type": "code",
      "metadata": {
        "colab": {
          "base_uri": "https://localhost:8080/"
        },
        "id": "vcb2zSsFeRd9",
        "outputId": "986bee72-b3cd-426c-e19a-26abcc2c7c0e"
      },
      "source": [
        "for alpha in alphabets : \r\n",
        "    print(alpha)"
      ],
      "execution_count": 40,
      "outputs": [
        {
          "output_type": "stream",
          "text": [
            "b\n",
            "c\n",
            "d\n",
            "a\n"
          ],
          "name": "stdout"
        }
      ]
    },
    {
      "cell_type": "markdown",
      "metadata": {
        "id": "brgAMtkpg02J"
      },
      "source": [
        "### 7) `range`"
      ]
    },
    {
      "cell_type": "code",
      "metadata": {
        "colab": {
          "base_uri": "https://localhost:8080/"
        },
        "id": "L17zkmQ5g8SN",
        "outputId": "7c480e59-4f15-4350-970f-16f1dd710373"
      },
      "source": [
        "range(5) # 0-4"
      ],
      "execution_count": 43,
      "outputs": [
        {
          "output_type": "execute_result",
          "data": {
            "text/plain": [
              "range(0, 5)"
            ]
          },
          "metadata": {
            "tags": []
          },
          "execution_count": 43
        }
      ]
    },
    {
      "cell_type": "code",
      "metadata": {
        "colab": {
          "base_uri": "https://localhost:8080/"
        },
        "id": "2YjPc8WAgUNr",
        "outputId": "76718b51-20d2-4b04-9627-413dbd740b0f"
      },
      "source": [
        "list(range(5))"
      ],
      "execution_count": 44,
      "outputs": [
        {
          "output_type": "execute_result",
          "data": {
            "text/plain": [
              "[0, 1, 2, 3, 4]"
            ]
          },
          "metadata": {
            "tags": []
          },
          "execution_count": 44
        }
      ]
    },
    {
      "cell_type": "code",
      "metadata": {
        "colab": {
          "base_uri": "https://localhost:8080/"
        },
        "id": "__JkLnaChFZU",
        "outputId": "002dd017-8f16-4e7a-cebb-7b3fce036a62"
      },
      "source": [
        "import sys \r\n",
        "\r\n",
        "x = range(10000)\r\n",
        "sys.getsizeof(x)"
      ],
      "execution_count": 45,
      "outputs": [
        {
          "output_type": "execute_result",
          "data": {
            "text/plain": [
              "48"
            ]
          },
          "metadata": {
            "tags": []
          },
          "execution_count": 45
        }
      ]
    },
    {
      "cell_type": "code",
      "metadata": {
        "colab": {
          "base_uri": "https://localhost:8080/"
        },
        "id": "d-IqQXPHmS6d",
        "outputId": "0ecc667c-32b2-4277-a267-1582ffda8c85"
      },
      "source": [
        "x = list(range(10000))\r\n",
        "sys.getsizeof(x)"
      ],
      "execution_count": 46,
      "outputs": [
        {
          "output_type": "execute_result",
          "data": {
            "text/plain": [
              "90112"
            ]
          },
          "metadata": {
            "tags": []
          },
          "execution_count": 46
        }
      ]
    },
    {
      "cell_type": "markdown",
      "metadata": {
        "id": "uz5-YfC4mdg8"
      },
      "source": [
        "### 8) import 기본 라이브러리"
      ]
    },
    {
      "cell_type": "markdown",
      "metadata": {
        "id": "sN-uhwLGmipu"
      },
      "source": [
        "* Python에서는 기 개발된 함수를 사용하기 위해서는 관련 라이브러리를 import 하여 사용한다.\r\n",
        "* 예를 들어, 제곱근을 계산하는 `sqrt` 함수를 사용하기 위해서는 수학연산 기본라이브러리인 `math`를 import해야 한다."
      ]
    },
    {
      "cell_type": "code",
      "metadata": {
        "colab": {
          "base_uri": "https://localhost:8080/"
        },
        "id": "l6fHKafemabi",
        "outputId": "bb39c0ae-e20c-4cc6-b5a3-1ac90e551bc7"
      },
      "source": [
        "import math \r\n",
        "math.sqrt(49)"
      ],
      "execution_count": 47,
      "outputs": [
        {
          "output_type": "execute_result",
          "data": {
            "text/plain": [
              "7.0"
            ]
          },
          "metadata": {
            "tags": []
          },
          "execution_count": 47
        }
      ]
    },
    {
      "cell_type": "markdown",
      "metadata": {
        "id": "Nqsf1y9Tozwk"
      },
      "source": [
        "* `help`함수를 사용해 import한 라이브러링의 문서를 볼 수 있다. "
      ]
    },
    {
      "cell_type": "code",
      "metadata": {
        "colab": {
          "base_uri": "https://localhost:8080/"
        },
        "id": "R8O5Mo0Cowi2",
        "outputId": "3e0cd101-f051-4948-b8f0-18a84a6f5a7e"
      },
      "source": [
        "help(math)"
      ],
      "execution_count": 48,
      "outputs": [
        {
          "output_type": "stream",
          "text": [
            "Help on built-in module math:\n",
            "\n",
            "NAME\n",
            "    math\n",
            "\n",
            "DESCRIPTION\n",
            "    This module is always available.  It provides access to the\n",
            "    mathematical functions defined by the C standard.\n",
            "\n",
            "FUNCTIONS\n",
            "    acos(...)\n",
            "        acos(x)\n",
            "        \n",
            "        Return the arc cosine (measured in radians) of x.\n",
            "    \n",
            "    acosh(...)\n",
            "        acosh(x)\n",
            "        \n",
            "        Return the inverse hyperbolic cosine of x.\n",
            "    \n",
            "    asin(...)\n",
            "        asin(x)\n",
            "        \n",
            "        Return the arc sine (measured in radians) of x.\n",
            "    \n",
            "    asinh(...)\n",
            "        asinh(x)\n",
            "        \n",
            "        Return the inverse hyperbolic sine of x.\n",
            "    \n",
            "    atan(...)\n",
            "        atan(x)\n",
            "        \n",
            "        Return the arc tangent (measured in radians) of x.\n",
            "    \n",
            "    atan2(...)\n",
            "        atan2(y, x)\n",
            "        \n",
            "        Return the arc tangent (measured in radians) of y/x.\n",
            "        Unlike atan(y/x), the signs of both x and y are considered.\n",
            "    \n",
            "    atanh(...)\n",
            "        atanh(x)\n",
            "        \n",
            "        Return the inverse hyperbolic tangent of x.\n",
            "    \n",
            "    ceil(...)\n",
            "        ceil(x)\n",
            "        \n",
            "        Return the ceiling of x as an Integral.\n",
            "        This is the smallest integer >= x.\n",
            "    \n",
            "    copysign(...)\n",
            "        copysign(x, y)\n",
            "        \n",
            "        Return a float with the magnitude (absolute value) of x but the sign \n",
            "        of y. On platforms that support signed zeros, copysign(1.0, -0.0) \n",
            "        returns -1.0.\n",
            "    \n",
            "    cos(...)\n",
            "        cos(x)\n",
            "        \n",
            "        Return the cosine of x (measured in radians).\n",
            "    \n",
            "    cosh(...)\n",
            "        cosh(x)\n",
            "        \n",
            "        Return the hyperbolic cosine of x.\n",
            "    \n",
            "    degrees(...)\n",
            "        degrees(x)\n",
            "        \n",
            "        Convert angle x from radians to degrees.\n",
            "    \n",
            "    erf(...)\n",
            "        erf(x)\n",
            "        \n",
            "        Error function at x.\n",
            "    \n",
            "    erfc(...)\n",
            "        erfc(x)\n",
            "        \n",
            "        Complementary error function at x.\n",
            "    \n",
            "    exp(...)\n",
            "        exp(x)\n",
            "        \n",
            "        Return e raised to the power of x.\n",
            "    \n",
            "    expm1(...)\n",
            "        expm1(x)\n",
            "        \n",
            "        Return exp(x)-1.\n",
            "        This function avoids the loss of precision involved in the direct evaluation of exp(x)-1 for small x.\n",
            "    \n",
            "    fabs(...)\n",
            "        fabs(x)\n",
            "        \n",
            "        Return the absolute value of the float x.\n",
            "    \n",
            "    factorial(...)\n",
            "        factorial(x) -> Integral\n",
            "        \n",
            "        Find x!. Raise a ValueError if x is negative or non-integral.\n",
            "    \n",
            "    floor(...)\n",
            "        floor(x)\n",
            "        \n",
            "        Return the floor of x as an Integral.\n",
            "        This is the largest integer <= x.\n",
            "    \n",
            "    fmod(...)\n",
            "        fmod(x, y)\n",
            "        \n",
            "        Return fmod(x, y), according to platform C.  x % y may differ.\n",
            "    \n",
            "    frexp(...)\n",
            "        frexp(x)\n",
            "        \n",
            "        Return the mantissa and exponent of x, as pair (m, e).\n",
            "        m is a float and e is an int, such that x = m * 2.**e.\n",
            "        If x is 0, m and e are both 0.  Else 0.5 <= abs(m) < 1.0.\n",
            "    \n",
            "    fsum(...)\n",
            "        fsum(iterable)\n",
            "        \n",
            "        Return an accurate floating point sum of values in the iterable.\n",
            "        Assumes IEEE-754 floating point arithmetic.\n",
            "    \n",
            "    gamma(...)\n",
            "        gamma(x)\n",
            "        \n",
            "        Gamma function at x.\n",
            "    \n",
            "    gcd(...)\n",
            "        gcd(x, y) -> int\n",
            "        greatest common divisor of x and y\n",
            "    \n",
            "    hypot(...)\n",
            "        hypot(x, y)\n",
            "        \n",
            "        Return the Euclidean distance, sqrt(x*x + y*y).\n",
            "    \n",
            "    isclose(...)\n",
            "        isclose(a, b, *, rel_tol=1e-09, abs_tol=0.0) -> bool\n",
            "        \n",
            "        Determine whether two floating point numbers are close in value.\n",
            "        \n",
            "           rel_tol\n",
            "               maximum difference for being considered \"close\", relative to the\n",
            "               magnitude of the input values\n",
            "            abs_tol\n",
            "               maximum difference for being considered \"close\", regardless of the\n",
            "               magnitude of the input values\n",
            "        \n",
            "        Return True if a is close in value to b, and False otherwise.\n",
            "        \n",
            "        For the values to be considered close, the difference between them\n",
            "        must be smaller than at least one of the tolerances.\n",
            "        \n",
            "        -inf, inf and NaN behave similarly to the IEEE 754 Standard.  That\n",
            "        is, NaN is not close to anything, even itself.  inf and -inf are\n",
            "        only close to themselves.\n",
            "    \n",
            "    isfinite(...)\n",
            "        isfinite(x) -> bool\n",
            "        \n",
            "        Return True if x is neither an infinity nor a NaN, and False otherwise.\n",
            "    \n",
            "    isinf(...)\n",
            "        isinf(x) -> bool\n",
            "        \n",
            "        Return True if x is a positive or negative infinity, and False otherwise.\n",
            "    \n",
            "    isnan(...)\n",
            "        isnan(x) -> bool\n",
            "        \n",
            "        Return True if x is a NaN (not a number), and False otherwise.\n",
            "    \n",
            "    ldexp(...)\n",
            "        ldexp(x, i)\n",
            "        \n",
            "        Return x * (2**i).\n",
            "    \n",
            "    lgamma(...)\n",
            "        lgamma(x)\n",
            "        \n",
            "        Natural logarithm of absolute value of Gamma function at x.\n",
            "    \n",
            "    log(...)\n",
            "        log(x[, base])\n",
            "        \n",
            "        Return the logarithm of x to the given base.\n",
            "        If the base not specified, returns the natural logarithm (base e) of x.\n",
            "    \n",
            "    log10(...)\n",
            "        log10(x)\n",
            "        \n",
            "        Return the base 10 logarithm of x.\n",
            "    \n",
            "    log1p(...)\n",
            "        log1p(x)\n",
            "        \n",
            "        Return the natural logarithm of 1+x (base e).\n",
            "        The result is computed in a way which is accurate for x near zero.\n",
            "    \n",
            "    log2(...)\n",
            "        log2(x)\n",
            "        \n",
            "        Return the base 2 logarithm of x.\n",
            "    \n",
            "    modf(...)\n",
            "        modf(x)\n",
            "        \n",
            "        Return the fractional and integer parts of x.  Both results carry the sign\n",
            "        of x and are floats.\n",
            "    \n",
            "    pow(...)\n",
            "        pow(x, y)\n",
            "        \n",
            "        Return x**y (x to the power of y).\n",
            "    \n",
            "    radians(...)\n",
            "        radians(x)\n",
            "        \n",
            "        Convert angle x from degrees to radians.\n",
            "    \n",
            "    sin(...)\n",
            "        sin(x)\n",
            "        \n",
            "        Return the sine of x (measured in radians).\n",
            "    \n",
            "    sinh(...)\n",
            "        sinh(x)\n",
            "        \n",
            "        Return the hyperbolic sine of x.\n",
            "    \n",
            "    sqrt(...)\n",
            "        sqrt(x)\n",
            "        \n",
            "        Return the square root of x.\n",
            "    \n",
            "    tan(...)\n",
            "        tan(x)\n",
            "        \n",
            "        Return the tangent of x (measured in radians).\n",
            "    \n",
            "    tanh(...)\n",
            "        tanh(x)\n",
            "        \n",
            "        Return the hyperbolic tangent of x.\n",
            "    \n",
            "    trunc(...)\n",
            "        trunc(x:Real) -> Integral\n",
            "        \n",
            "        Truncates x to the nearest Integral toward 0. Uses the __trunc__ magic method.\n",
            "\n",
            "DATA\n",
            "    e = 2.718281828459045\n",
            "    inf = inf\n",
            "    nan = nan\n",
            "    pi = 3.141592653589793\n",
            "    tau = 6.283185307179586\n",
            "\n",
            "FILE\n",
            "    (built-in)\n",
            "\n",
            "\n"
          ],
          "name": "stdout"
        }
      ]
    },
    {
      "cell_type": "markdown",
      "metadata": {
        "id": "sMZh-PTDpBXW"
      },
      "source": [
        "* 런타임에서 한번 import한 라이브러리는 다른 셀에서 다시 import하지 않아도 라이브러리 함수를 사용할 수 있다. "
      ]
    },
    {
      "cell_type": "code",
      "metadata": {
        "colab": {
          "base_uri": "https://localhost:8080/"
        },
        "id": "Psv-ClTQo8CG",
        "outputId": "76cfe8de-67a6-4790-8002-246fdcc3b7f1"
      },
      "source": [
        "math.pi"
      ],
      "execution_count": 49,
      "outputs": [
        {
          "output_type": "execute_result",
          "data": {
            "text/plain": [
              "3.141592653589793"
            ]
          },
          "metadata": {
            "tags": []
          },
          "execution_count": 49
        }
      ]
    },
    {
      "cell_type": "code",
      "metadata": {
        "colab": {
          "base_uri": "https://localhost:8080/"
        },
        "id": "gnidv5o2pLWg",
        "outputId": "0315cb43-81e8-4e70-bfa8-2172f5a1ba4c"
      },
      "source": [
        "math.pow(7,2)"
      ],
      "execution_count": 50,
      "outputs": [
        {
          "output_type": "execute_result",
          "data": {
            "text/plain": [
              "49.0"
            ]
          },
          "metadata": {
            "tags": []
          },
          "execution_count": 50
        }
      ]
    },
    {
      "cell_type": "markdown",
      "metadata": {
        "id": "5JnA7RaJpOhY"
      },
      "source": [
        "* 특정 메소드만 import할 수도 있다. "
      ]
    },
    {
      "cell_type": "code",
      "metadata": {
        "colab": {
          "base_uri": "https://localhost:8080/"
        },
        "id": "C_-Z2y38pPdJ",
        "outputId": "aad44b7e-7e9b-4073-ab32-d05beed58b57"
      },
      "source": [
        "from math import pow\r\n",
        "pow(9,2)"
      ],
      "execution_count": 53,
      "outputs": [
        {
          "output_type": "execute_result",
          "data": {
            "text/plain": [
              "81.0"
            ]
          },
          "metadata": {
            "tags": []
          },
          "execution_count": 53
        }
      ]
    },
    {
      "cell_type": "markdown",
      "metadata": {
        "id": "X4CJ20Xwpaem"
      },
      "source": [
        "* 라이브러리나 메소드에 별칭을 붙여서 사용할 수 있다."
      ]
    },
    {
      "cell_type": "code",
      "metadata": {
        "colab": {
          "base_uri": "https://localhost:8080/"
        },
        "id": "iR79_5qfpNXv",
        "outputId": "cb21b614-3e40-4f2b-9ce7-6a5e2d74f616"
      },
      "source": [
        "from math import factorial as fact\r\n",
        "\r\n",
        "fact(5)"
      ],
      "execution_count": 54,
      "outputs": [
        {
          "output_type": "execute_result",
          "data": {
            "text/plain": [
              "120"
            ]
          },
          "metadata": {
            "tags": []
          },
          "execution_count": 54
        }
      ]
    },
    {
      "cell_type": "code",
      "metadata": {
        "colab": {
          "base_uri": "https://localhost:8080/"
        },
        "id": "3a1F8eeapmrL",
        "outputId": "bc95843c-113a-4d9a-f8b3-eeba29dc94d7"
      },
      "source": [
        "f = 1\r\n",
        "for i in range(2,6) :\r\n",
        "    f *= i \r\n",
        "print(f)"
      ],
      "execution_count": 56,
      "outputs": [
        {
          "output_type": "stream",
          "text": [
            "120\n"
          ],
          "name": "stdout"
        }
      ]
    },
    {
      "cell_type": "markdown",
      "metadata": {
        "id": "UNPH9AAOqmjP"
      },
      "source": [
        "## 1.2 객체 (Object)와 변수(variable)"
      ]
    },
    {
      "cell_type": "markdown",
      "metadata": {
        "id": "64yttOzNqw6s"
      },
      "source": [
        "* 메모리에 저장된 자료는 객체(object)이다. Python에서는 모든 것이 객체이다.\r\n",
        "* 변수는 **자체적으로 저장공간을 할당받지 않으며, 객체를 참조하기만 한다.**\r\n",
        "* 변수는 `=`연산자르르 이용해서 객체를 가리킬 수 있으며, 이때 변수가 정의된다."
      ]
    },
    {
      "cell_type": "code",
      "metadata": {
        "id": "0yuW9IP_pvVl"
      },
      "source": [
        "# variable num is defined by 1\r\n",
        "num = 1"
      ],
      "execution_count": 57,
      "outputs": []
    },
    {
      "cell_type": "code",
      "metadata": {
        "colab": {
          "base_uri": "https://localhost:8080/"
        },
        "id": "2Jc3ckLgrRrs",
        "outputId": "6c2ee733-06ac-4128-b2dd-2ef1d432d2bb"
      },
      "source": [
        "print(num)"
      ],
      "execution_count": 58,
      "outputs": [
        {
          "output_type": "stream",
          "text": [
            "1\n"
          ],
          "name": "stdout"
        }
      ]
    },
    {
      "cell_type": "code",
      "metadata": {
        "colab": {
          "base_uri": "https://localhost:8080/"
        },
        "id": "ebhbs1hLrUZB",
        "outputId": "5baea3f3-395e-48cd-fe06-fec5bd439ef2"
      },
      "source": [
        "id(num)"
      ],
      "execution_count": 59,
      "outputs": [
        {
          "output_type": "execute_result",
          "data": {
            "text/plain": [
              "10914496"
            ]
          },
          "metadata": {
            "tags": []
          },
          "execution_count": 59
        }
      ]
    },
    {
      "cell_type": "markdown",
      "metadata": {
        "id": "4ne61oiRra_Z"
      },
      "source": [
        "* 1은 int형 객체이며, 변수 num 은 객체 1을 가리킨다.\r\n",
        "* `print`함수로 변수가 가리키는 객체를 출력한다.\r\n",
        "* 만약 변수가 아무 객체도 가리키고 있지 않으면 오류를 발생시킨다."
      ]
    },
    {
      "cell_type": "code",
      "metadata": {
        "colab": {
          "base_uri": "https://localhost:8080/",
          "height": 165
        },
        "id": "6mJkxmHQrxZX",
        "outputId": "d5b302ab-4878-48c6-db0a-3893f67e6fda"
      },
      "source": [
        "print(c)"
      ],
      "execution_count": 61,
      "outputs": [
        {
          "output_type": "error",
          "ename": "NameError",
          "evalue": "ignored",
          "traceback": [
            "\u001b[0;31m---------------------------------------------------------------------------\u001b[0m",
            "\u001b[0;31mNameError\u001b[0m                                 Traceback (most recent call last)",
            "\u001b[0;32m<ipython-input-61-1dd5973cae19>\u001b[0m in \u001b[0;36m<module>\u001b[0;34m()\u001b[0m\n\u001b[0;32m----> 1\u001b[0;31m \u001b[0mprint\u001b[0m\u001b[0;34m(\u001b[0m\u001b[0mc\u001b[0m\u001b[0;34m)\u001b[0m\u001b[0;34m\u001b[0m\u001b[0;34m\u001b[0m\u001b[0m\n\u001b[0m",
            "\u001b[0;31mNameError\u001b[0m: name 'c' is not defined"
          ]
        }
      ]
    },
    {
      "cell_type": "code",
      "metadata": {
        "colab": {
          "base_uri": "https://localhost:8080/"
        },
        "id": "lD3T1B7msAAD",
        "outputId": "d1506413-6725-4298-89d5-1b29005fb9bf"
      },
      "source": [
        "num = 1\r\n",
        "print(id(num))\r\n",
        "\r\n",
        "# 깊은 복사\r\n",
        "import copy\r\n",
        "new = copy.deepcopy(num)\r\n",
        "print(id(new))\r\n",
        "\r\n",
        "new = 2\r\n",
        "print('new 객체의 주소 : ', id(new))\r\n",
        "\r\n",
        "print('num 객체의 주소 : ', id(num))"
      ],
      "execution_count": 71,
      "outputs": [
        {
          "output_type": "stream",
          "text": [
            "10914496\n",
            "10914496\n",
            "new 객체의 주소 :  10914528\n",
            "num 객체의 주소 :  10914496\n"
          ],
          "name": "stdout"
        }
      ]
    },
    {
      "cell_type": "code",
      "metadata": {
        "colab": {
          "base_uri": "https://localhost:8080/"
        },
        "id": "7SspsW7lsbBU",
        "outputId": "cc9bc363-7ced-495f-df92-c3fe1becb55e"
      },
      "source": [
        "num = 1\r\n",
        "print(id(num))\r\n",
        "\r\n",
        "# 얕은 복사\r\n",
        "new = num\r\n",
        "print(id(new))\r\n",
        "\r\n",
        "new = 2\r\n",
        "print('new 객체의 주소 : ', id(new))\r\n",
        "\r\n",
        "print('num 객체의 주소 : ', id(num))"
      ],
      "execution_count": 70,
      "outputs": [
        {
          "output_type": "stream",
          "text": [
            "10914496\n",
            "10914496\n",
            "new 객체의 주소 :  10914528\n",
            "num 객체의 주소 :  10914496\n"
          ],
          "name": "stdout"
        }
      ]
    },
    {
      "cell_type": "code",
      "metadata": {
        "colab": {
          "base_uri": "https://localhost:8080/"
        },
        "id": "mK-hpEJFtUMa",
        "outputId": "496cf975-f3e5-45de-c607-d0d27a6aff9c"
      },
      "source": [
        "num = [1,2,3,4]\r\n",
        "print(id(num))\r\n",
        "\r\n",
        "# 얕은 복사\r\n",
        "new = num\r\n",
        "print(id(new))\r\n",
        "\r\n",
        "new[0] = 8 # 기존의 num에 연결된 객체에 접근해서 원소를 바꿈\r\n",
        "print(new)\r\n",
        "print('new 객체의 주소 : ', id(new))\r\n",
        "\r\n",
        "print(num)\r\n",
        "print('num 객체의 주소 : ', id(num))"
      ],
      "execution_count": 74,
      "outputs": [
        {
          "output_type": "stream",
          "text": [
            "140205193453256\n",
            "140205193453256\n",
            "[8, 2, 3, 4]\n",
            "new 객체의 주소 :  140205193453256\n",
            "[8, 2, 3, 4]\n",
            "num 객체의 주소 :  140205193453256\n"
          ],
          "name": "stdout"
        }
      ]
    },
    {
      "cell_type": "code",
      "metadata": {
        "colab": {
          "base_uri": "https://localhost:8080/"
        },
        "id": "Pfwj-7Psts0G",
        "outputId": "0186543c-bbab-48fb-e12a-89f7af399ee7"
      },
      "source": [
        "num = [1,2,3,4]\r\n",
        "print(id(num))\r\n",
        "\r\n",
        "# 깊은 복사\r\n",
        "new = copy.deepcopy(num)\r\n",
        "print(id(new)) # 새로운 객체와 그에 대한 새로운 주소가 할당된다. \r\n",
        "\r\n",
        "new[0] = 8 # 새로운 객체의 원소를 바꿈\r\n",
        "print(new)\r\n",
        "print('new 객체의 주소 : ', id(new))\r\n",
        "\r\n",
        "print(num) # 기존의 num은 그대로이다. \r\n",
        "print('num 객체의 주소 : ', id(num))"
      ],
      "execution_count": 76,
      "outputs": [
        {
          "output_type": "stream",
          "text": [
            "140205025246792\n",
            "140205041207368\n",
            "[8, 2, 3, 4]\n",
            "new 객체의 주소 :  140205041207368\n",
            "[1, 2, 3, 4]\n",
            "num 객체의 주소 :  140205025246792\n"
          ],
          "name": "stdout"
        }
      ]
    },
    {
      "cell_type": "markdown",
      "metadata": {
        "id": "BnywXRcfud9Y"
      },
      "source": [
        "* 키워드 `del`을 사용해 변수가 가리키는 객체를 삭제할 수 있다. "
      ]
    },
    {
      "cell_type": "code",
      "metadata": {
        "id": "MoCN2xXQuqP_"
      },
      "source": [
        "a=8"
      ],
      "execution_count": 79,
      "outputs": []
    },
    {
      "cell_type": "code",
      "metadata": {
        "colab": {
          "base_uri": "https://localhost:8080/",
          "height": 183
        },
        "id": "luNAnxqeuFd9",
        "outputId": "f94d0660-1a9c-4367-c429-1b5cf2d67e3e"
      },
      "source": [
        "del a\r\n",
        "print(a)"
      ],
      "execution_count": 80,
      "outputs": [
        {
          "output_type": "error",
          "ename": "NameError",
          "evalue": "ignored",
          "traceback": [
            "\u001b[0;31m---------------------------------------------------------------------------\u001b[0m",
            "\u001b[0;31mNameError\u001b[0m                                 Traceback (most recent call last)",
            "\u001b[0;32m<ipython-input-80-c342333e421e>\u001b[0m in \u001b[0;36m<module>\u001b[0;34m()\u001b[0m\n\u001b[1;32m      1\u001b[0m \u001b[0;32mdel\u001b[0m \u001b[0ma\u001b[0m\u001b[0;34m\u001b[0m\u001b[0;34m\u001b[0m\u001b[0m\n\u001b[0;32m----> 2\u001b[0;31m \u001b[0mprint\u001b[0m\u001b[0;34m(\u001b[0m\u001b[0ma\u001b[0m\u001b[0;34m)\u001b[0m\u001b[0;34m\u001b[0m\u001b[0;34m\u001b[0m\u001b[0m\n\u001b[0m",
            "\u001b[0;31mNameError\u001b[0m: name 'a' is not defined"
          ]
        }
      ]
    },
    {
      "cell_type": "markdown",
      "metadata": {
        "id": "0h6AMOysuuew"
      },
      "source": [
        "* 객체는 고유의 id를 가지며, 함수 `id`를 사용해 확인할 수 있다. \r\n",
        "* CPython에서는 객체가 저장된 실제 메모리 주소를 id로 사용한다. "
      ]
    },
    {
      "cell_type": "code",
      "metadata": {
        "colab": {
          "base_uri": "https://localhost:8080/"
        },
        "id": "E_tMdprdukui",
        "outputId": "85d78f6d-6a4b-4c2b-9e21-b52a6fe4a931"
      },
      "source": [
        "help(id) # 한 주소에는 한 객체만 있는 것이다. "
      ],
      "execution_count": 81,
      "outputs": [
        {
          "output_type": "stream",
          "text": [
            "Help on built-in function id in module builtins:\n",
            "\n",
            "id(obj, /)\n",
            "    Return the identity of an object.\n",
            "    \n",
            "    This is guaranteed to be unique among simultaneously existing objects.\n",
            "    (CPython uses the object's memory address.)\n",
            "\n"
          ],
          "name": "stdout"
        }
      ]
    },
    {
      "cell_type": "code",
      "metadata": {
        "colab": {
          "base_uri": "https://localhost:8080/"
        },
        "id": "D3a46jvVu9Jz",
        "outputId": "43aaeb5c-9f07-48cb-f6c7-7ef51067b356"
      },
      "source": [
        "num = 1\r\n",
        "print(id(num))\r\n",
        "print(id(1))"
      ],
      "execution_count": 83,
      "outputs": [
        {
          "output_type": "stream",
          "text": [
            "10914496\n",
            "10914496\n"
          ],
          "name": "stdout"
        }
      ]
    },
    {
      "cell_type": "markdown",
      "metadata": {
        "id": "KTmx7BvVvjMi"
      },
      "source": [
        "### 2) Immutable 객체 \r\n",
        "* 값을 초기화한 후에는 변경할 수가 없다. \r\n",
        "* immutable 객체를 가리키는 변수의 값을 변경하는 경우에는, 변수는 해당 값을 가진 다른 객체를 가리키게 된다. "
      ]
    },
    {
      "cell_type": "markdown",
      "metadata": {
        "id": "bYL1AnkTvw3X"
      },
      "source": [
        "* tuple, 숫자(int, float) boolean, 문자열(string, unicode)만 **imutable**객체이다.\r\n",
        "* list, dict, set : mutable\r\n",
        "* tuple, list : 순서보장, 중복허용\r\n",
        "* set, dict : 순서보장 안함, 중복허용 안함"
      ]
    },
    {
      "cell_type": "code",
      "metadata": {
        "colab": {
          "base_uri": "https://localhost:8080/"
        },
        "id": "ytgr3cPYvv9N",
        "outputId": "865a31d9-0e86-4f0a-c17d-2dbad09dccca"
      },
      "source": [
        "name = 'Kim, Bogyeong'\r\n",
        "birth = 1994\r\n",
        "age = 2020 - birth\r\n",
        "graduated = True\r\n",
        "info = (name, birth, age, graduated) # 튜플\r\n",
        "\r\n",
        "print(info)\r\n",
        "print(info[2])"
      ],
      "execution_count": 3,
      "outputs": [
        {
          "output_type": "stream",
          "text": [
            "('Kim, Bogyeong', 1994, 26, True)\n",
            "26\n"
          ],
          "name": "stdout"
        }
      ]
    },
    {
      "cell_type": "code",
      "metadata": {
        "colab": {
          "base_uri": "https://localhost:8080/"
        },
        "id": "nBK7i-OFviiG",
        "outputId": "c419a78d-f44f-4bc1-de23-1a2fbae33095"
      },
      "source": [
        "def print_info () :\r\n",
        "    print(f'name의 ID = {id(name)}')\r\n",
        "    print(f'birth의 ID = {id(birth)}')\r\n",
        "    print(f'age의 ID = {id(age)}')\r\n",
        "    print(f'graduated ID = {id(graduated)}')\r\n",
        "\r\n",
        "print_info()"
      ],
      "execution_count": 4,
      "outputs": [
        {
          "output_type": "stream",
          "text": [
            "name의 ID = 139833695954160\n",
            "birth의 ID = 139833696132656\n",
            "age의 ID = 10915296\n",
            "graduated ID = 10302848\n"
          ],
          "name": "stdout"
        }
      ]
    },
    {
      "cell_type": "code",
      "metadata": {
        "colab": {
          "base_uri": "https://localhost:8080/",
          "height": 200
        },
        "id": "96V6tCgFvMXC",
        "outputId": "a4401049-184f-4162-816c-23dc53290dde"
      },
      "source": [
        "# 1년 후에\r\n",
        "name = \"Bogyeong Kim\"\r\n",
        "age = 2021 - birth\r\n",
        "graduated = False\r\n",
        "info[2] = age # 튜플은 변경이 불가능 하다!!!"
      ],
      "execution_count": 5,
      "outputs": [
        {
          "output_type": "error",
          "ename": "TypeError",
          "evalue": "ignored",
          "traceback": [
            "\u001b[0;31m---------------------------------------------------------------------------\u001b[0m",
            "\u001b[0;31mTypeError\u001b[0m                                 Traceback (most recent call last)",
            "\u001b[0;32m<ipython-input-5-16a15520c187>\u001b[0m in \u001b[0;36m<module>\u001b[0;34m()\u001b[0m\n\u001b[1;32m      3\u001b[0m \u001b[0mage\u001b[0m \u001b[0;34m=\u001b[0m \u001b[0;36m2021\u001b[0m \u001b[0;34m-\u001b[0m \u001b[0mbirth\u001b[0m\u001b[0;34m\u001b[0m\u001b[0;34m\u001b[0m\u001b[0m\n\u001b[1;32m      4\u001b[0m \u001b[0mgraduated\u001b[0m \u001b[0;34m=\u001b[0m \u001b[0;32mFalse\u001b[0m\u001b[0;34m\u001b[0m\u001b[0;34m\u001b[0m\u001b[0m\n\u001b[0;32m----> 5\u001b[0;31m \u001b[0minfo\u001b[0m\u001b[0;34m[\u001b[0m\u001b[0;36m2\u001b[0m\u001b[0;34m]\u001b[0m \u001b[0;34m=\u001b[0m \u001b[0mage\u001b[0m \u001b[0;31m# 튜플은 변경이 불가능 하다!!!\u001b[0m\u001b[0;34m\u001b[0m\u001b[0;34m\u001b[0m\u001b[0m\n\u001b[0m",
            "\u001b[0;31mTypeError\u001b[0m: 'tuple' object does not support item assignment"
          ]
        }
      ]
    },
    {
      "cell_type": "code",
      "metadata": {
        "colab": {
          "base_uri": "https://localhost:8080/"
        },
        "id": "cWMbVDNB0Ri-",
        "outputId": "f15a879b-0d7b-4f77-b7c4-851a72c6006e"
      },
      "source": [
        "# 1년 후에\r\n",
        "name = \"Bogyeong Kim\"\r\n",
        "age = 2021 - birth\r\n",
        "graduated = False\r\n",
        "\r\n",
        "print(name, birth, age, graduated)\r\n",
        "print(info) # 그대로 "
      ],
      "execution_count": 7,
      "outputs": [
        {
          "output_type": "stream",
          "text": [
            "Bogyeong Kim 1994 27 False\n",
            "('Kim, Bogyeong', 1994, 26, True)\n"
          ],
          "name": "stdout"
        }
      ]
    },
    {
      "cell_type": "code",
      "metadata": {
        "colab": {
          "base_uri": "https://localhost:8080/"
        },
        "id": "vGInM8Br0eU1",
        "outputId": "ce75b103-977f-4ba3-b734-43235f18a8f7"
      },
      "source": [
        "print_info()"
      ],
      "execution_count": 8,
      "outputs": [
        {
          "output_type": "stream",
          "text": [
            "name의 ID = 139833687215152\n",
            "birth의 ID = 139833696132656\n",
            "age의 ID = 10915328\n",
            "graduated ID = 10300256\n"
          ],
          "name": "stdout"
        }
      ]
    },
    {
      "cell_type": "markdown",
      "metadata": {
        "id": "S-jZ-VUP2fSN"
      },
      "source": [
        "#### 완전 중요!!\r\n",
        "* literal 객체는 같은 걸 두 번 메모리에 만들지 않는다. (?)\r\n",
        "* 참조형 객체는 같은 걸 두 번 메모리에 만들 수 있다. "
      ]
    },
    {
      "cell_type": "code",
      "metadata": {
        "colab": {
          "base_uri": "https://localhost:8080/"
        },
        "id": "YKLVq6dA0oHw",
        "outputId": "a9aa2ae4-d5c1-4607-a89d-5420fe95fae0"
      },
      "source": [
        "age = 26\r\n",
        "print(id(age)) # 처음과 주소가 같아졌다. 참조하는 객체가 달라졌다가 다시 같아졌다. \r\n",
        "# literal 객체는 같은 걸 두 번 메모리에 만들지 않는다. (?)"
      ],
      "execution_count": 9,
      "outputs": [
        {
          "output_type": "stream",
          "text": [
            "10915296\n"
          ],
          "name": "stdout"
        }
      ]
    },
    {
      "cell_type": "markdown",
      "metadata": {
        "id": "WgW20YHP2ppf"
      },
      "source": [
        "* `is` 는 두 객체의 id가 같은 경우 `True`를 리턴하며, `==`는 두 객체의 값이 같은 경우 `True`를 리턴한다."
      ]
    },
    {
      "cell_type": "code",
      "metadata": {
        "colab": {
          "base_uri": "https://localhost:8080/"
        },
        "id": "ceOvyj1y2qD0",
        "outputId": "747d7c64-39e5-429a-c94e-a01e1068b297"
      },
      "source": [
        "age1 = 26\r\n",
        "age2 = 27\r\n",
        "age1 is age2"
      ],
      "execution_count": 10,
      "outputs": [
        {
          "output_type": "execute_result",
          "data": {
            "text/plain": [
              "False"
            ]
          },
          "metadata": {
            "tags": []
          },
          "execution_count": 10
        }
      ]
    },
    {
      "cell_type": "markdown",
      "metadata": {
        "id": "YsyKYB7x3RFH"
      },
      "source": [
        "* Python은 변수의 데이터 타입을 사전에 지정하지 않는다. 동적 자료형의 언어이다. "
      ]
    },
    {
      "cell_type": "code",
      "metadata": {
        "colab": {
          "base_uri": "https://localhost:8080/"
        },
        "id": "10EAwdng3QLF",
        "outputId": "27773a78-b86e-4f05-9f0f-c5879928c9f3"
      },
      "source": [
        "def add(a,b) :\r\n",
        "    return a + b\r\n",
        "\r\n",
        "print(add(1,3))"
      ],
      "execution_count": 11,
      "outputs": [
        {
          "output_type": "stream",
          "text": [
            "4\n"
          ],
          "name": "stdout"
        }
      ]
    },
    {
      "cell_type": "code",
      "metadata": {
        "colab": {
          "base_uri": "https://localhost:8080/"
        },
        "id": "TLAtvNyb1AmQ",
        "outputId": "fb0ae66b-7552-45e9-b46d-c321406f8d72"
      },
      "source": [
        "print(add(1.2, 3.4))\r\n",
        "print(add('Hello ', 'World!'))"
      ],
      "execution_count": 15,
      "outputs": [
        {
          "output_type": "stream",
          "text": [
            "4.6\n",
            "Hello World!\n"
          ],
          "name": "stdout"
        }
      ]
    },
    {
      "cell_type": "code",
      "metadata": {
        "colab": {
          "base_uri": "https://localhost:8080/"
        },
        "id": "Iriqz4UU3hMQ",
        "outputId": "16f7019c-14b8-45c1-a89f-e03b10a474a6"
      },
      "source": [
        "print(add((1, 'South'), ('Korea', 2)))"
      ],
      "execution_count": 17,
      "outputs": [
        {
          "output_type": "stream",
          "text": [
            "(1, 'South', 'Korea', 2)\n"
          ],
          "name": "stdout"
        }
      ]
    },
    {
      "cell_type": "markdown",
      "metadata": {
        "id": "SoBzxTVt37-X"
      },
      "source": [
        "### 3) Mutable 객체\r\n",
        "* **mutable 객체**는 `list`, `set`, `dict`인 객체이며, 값이 초기화된 이후에도 변경 가능하다. \r\n",
        "* mutable 객체의 요소 값을 변경하는 경우에는, 변수는 그대로 같은 객체 주소를 가리키게 된다. \r\n",
        "* 똑같은 객체를 각각 다른 변수에 연결시키는 방식으로 두번 만들면, 두 객체의 주소는 다르다. "
      ]
    },
    {
      "cell_type": "code",
      "metadata": {
        "colab": {
          "base_uri": "https://localhost:8080/"
        },
        "id": "w5pWpz-t33V7",
        "outputId": "dfea36eb-55f4-459f-87b7-19b247b5e3c3"
      },
      "source": [
        "x = [1,2,3,4,5]\r\n",
        "y = [1,2,3,4,5]\r\n",
        "\r\n",
        "print(id(x))\r\n",
        "print(id(y))\r\n",
        "print(x is y)\r\n",
        "\r\n",
        "print(x is [1,2,3,4,5])"
      ],
      "execution_count": 19,
      "outputs": [
        {
          "output_type": "stream",
          "text": [
            "139833696104776\n",
            "139833696108424\n",
            "False\n",
            "False\n"
          ],
          "name": "stdout"
        }
      ]
    },
    {
      "cell_type": "code",
      "metadata": {
        "colab": {
          "base_uri": "https://localhost:8080/"
        },
        "id": "WXW8RN2T44kz",
        "outputId": "53e34140-93a3-45fe-a0d5-7294e2406b25"
      },
      "source": [
        "# immutable이지만, 참조형 객체인 튜플\r\n",
        "x = (1,2,3,4,5)\r\n",
        "y = (1,2,3,4,5)\r\n",
        "\r\n",
        "print(id(x))\r\n",
        "print(id(y))\r\n",
        "print(x is y)"
      ],
      "execution_count": 20,
      "outputs": [
        {
          "output_type": "stream",
          "text": [
            "139833696039952\n",
            "139833712073192\n",
            "False\n"
          ],
          "name": "stdout"
        }
      ]
    },
    {
      "cell_type": "markdown",
      "metadata": {
        "id": "GGpUUWeI7olz"
      },
      "source": [
        "* Call-by-Value vs Call-by-Reference\r\n",
        "\r\n",
        ": 함수를 호출할 때도 보면, literal 객체는 값 자체에 접근하는 것이고 참조형 객체는 주소에 접근하는 것이다. \r\n"
      ]
    },
    {
      "cell_type": "code",
      "metadata": {
        "colab": {
          "base_uri": "https://localhost:8080/"
        },
        "id": "WJQzZbNh5dUn",
        "outputId": "ec72e71d-6381-4a61-a264-3f527ebeb1b2"
      },
      "source": [
        "literal = 2\r\n",
        "print(f'literal before call_by_Value() is {literal}')\r\n",
        "\r\n",
        "def call_by_Value (x) : \r\n",
        "    x+= 2\r\n",
        "    print(x)\r\n",
        "\r\n",
        "call_by_Value(literal)\r\n",
        "print(f'literal after call_by_Value() is {literal}')"
      ],
      "execution_count": 22,
      "outputs": [
        {
          "output_type": "stream",
          "text": [
            "literal before call_by_Value() is 2\n",
            "4\n",
            "literal after call_by_Value() is 2\n"
          ],
          "name": "stdout"
        }
      ]
    },
    {
      "cell_type": "code",
      "metadata": {
        "colab": {
          "base_uri": "https://localhost:8080/"
        },
        "id": "pqKHW_NR8yau",
        "outputId": "ff6ec4c4-8673-488f-b023-d583e6d19d3e"
      },
      "source": [
        "list1 = [1,2,3,4]\r\n",
        "print(f'list1 before call_by_Value() is {list1}')\r\n",
        "\r\n",
        "def call_by_Value (x) : \r\n",
        "    x[0] += 6\r\n",
        "    print(x)\r\n",
        "\r\n",
        "call_by_Value(list1)\r\n",
        "print(f'literal after call_by_Value() is {list1}')"
      ],
      "execution_count": 23,
      "outputs": [
        {
          "output_type": "stream",
          "text": [
            "list1 before call_by_Value() is [1, 2, 3, 4]\n",
            "[7, 2, 3, 4]\n",
            "literal after call_by_Value() is [7, 2, 3, 4]\n"
          ],
          "name": "stdout"
        }
      ]
    },
    {
      "cell_type": "markdown",
      "metadata": {
        "id": "m6s8S3T99gY0"
      },
      "source": [
        "## 1.3 기본 자료형(Data Types)\r\n"
      ]
    },
    {
      "cell_type": "markdown",
      "metadata": {
        "id": "RAOEnqnC9oml"
      },
      "source": [
        "### 1) 숫자 자료형 (Numeric Types)\r\n",
        "* 정수형 `int`\r\n",
        "* 실수형 `float`\r\n",
        "* 복소수 `complex`\r\n",
        "* 사칙연산 (`+`, `-`, `*`, `/`), 몫(`//`), 나머지(`%`), 지수 승(`**`)"
      ]
    },
    {
      "cell_type": "markdown",
      "metadata": {
        "id": "SqcU-nXA-EKW"
      },
      "source": [
        "### 2) Boolean Type(참 혹은 거짓)\r\n",
        "* 참은 `True`, 거짓은 `False`\r\n",
        "* 비교 연산자의 결과는 Boolean Type\r\n",
        "> * `<`, `<=`, `>`, `>=`, `==`, `!=`\r\n",
        "> * `is`, `is not`\r\n",
        "* 논리 연산자\r\n",
        "> * `and`, `or`, `not`"
      ]
    },
    {
      "cell_type": "code",
      "metadata": {
        "colab": {
          "base_uri": "https://localhost:8080/"
        },
        "id": "_uA39oxR9HUB",
        "outputId": "f46a5dc8-a523-43df-85aa-3a43f09e197e"
      },
      "source": [
        "print(1<2)"
      ],
      "execution_count": 24,
      "outputs": [
        {
          "output_type": "stream",
          "text": [
            "True\n"
          ],
          "name": "stdout"
        }
      ]
    },
    {
      "cell_type": "code",
      "metadata": {
        "colab": {
          "base_uri": "https://localhost:8080/"
        },
        "id": "CYvDV8jcb82y",
        "outputId": "5a5e7c2f-440b-4944-ba98-35112490dc80"
      },
      "source": [
        "a = [1,2,3,4]\r\n",
        "b = [1,2,3,4]\r\n",
        "print(a == b)\r\n",
        "print(a is b)"
      ],
      "execution_count": 25,
      "outputs": [
        {
          "output_type": "stream",
          "text": [
            "True\n",
            "False\n"
          ],
          "name": "stdout"
        }
      ]
    },
    {
      "cell_type": "code",
      "metadata": {
        "colab": {
          "base_uri": "https://localhost:8080/"
        },
        "id": "JkzaHK8fcN4A",
        "outputId": "2028a2c0-ffdc-443e-ab97-3a995945f7b2"
      },
      "source": [
        "import numpy as np\r\n",
        "\r\n",
        "np.array([[1,2], [3,4]]) @ np.array([[1,2], [3,4]]) # 행렬 곱 : @"
      ],
      "execution_count": 28,
      "outputs": [
        {
          "output_type": "execute_result",
          "data": {
            "text/plain": [
              "array([[ 7, 10],\n",
              "       [15, 22]])"
            ]
          },
          "metadata": {
            "tags": []
          },
          "execution_count": 28
        }
      ]
    },
    {
      "cell_type": "markdown",
      "metadata": {
        "id": "a2DrE4bhdeK7"
      },
      "source": [
        "### 3) 문자열 (String Type)\r\n",
        "* 문자열은 `'` 혹은 `\"`로 감싸면 모두 문자열이 된다."
      ]
    },
    {
      "cell_type": "code",
      "metadata": {
        "colab": {
          "base_uri": "https://localhost:8080/"
        },
        "id": "1RTzFOTTddt2",
        "outputId": "08bbb73e-3edf-4bba-b2c8-966edf79e62b"
      },
      "source": [
        "print(\"Hello, \\\"Python\\\"!\") # 탈출 기호"
      ],
      "execution_count": 31,
      "outputs": [
        {
          "output_type": "stream",
          "text": [
            "Hello, \"Python\"!\n"
          ],
          "name": "stdout"
        }
      ]
    },
    {
      "cell_type": "code",
      "metadata": {
        "colab": {
          "base_uri": "https://localhost:8080/"
        },
        "id": "MXQkySQDdHN5",
        "outputId": "8a3a63e4-a392-4118-e4dc-adf000d4caae"
      },
      "source": [
        "lyrics = \"\"\"\r\n",
        "문자열이 매우 길 경우에는 다른 줄로 넘어갈 수가 있는데, \r\n",
        "이럴 경우에는 어떻게 하면 좋을까?\r\n",
        "\"\"\"\r\n",
        "print(lyrics)"
      ],
      "execution_count": 36,
      "outputs": [
        {
          "output_type": "stream",
          "text": [
            "\n",
            "문자열이 매우 길 경우에는 다른 줄로 넘어갈 수가 있는데, \n",
            "이럴 경우에는 어떻게 하면 좋을까?\n",
            "\n"
          ],
          "name": "stdout"
        }
      ]
    },
    {
      "cell_type": "markdown",
      "metadata": {
        "id": "mzBykuQ8eluD"
      },
      "source": [
        "### 4) 문자열 형식 지정자 \r\n",
        "* `#` 연산자 (Python3 이전의 방식)"
      ]
    },
    {
      "cell_type": "code",
      "metadata": {
        "colab": {
          "base_uri": "https://localhost:8080/"
        },
        "id": "bWcQYusceY28",
        "outputId": "498d2aa0-0fd3-4a77-882d-d35fd69828bd"
      },
      "source": [
        "name = 'Bob'\r\n",
        "age = 53\r\n",
        "test = 'Hello, #s!' # name\r\n",
        "\r\n",
        "print(test)\r\n",
        "print('Is your age #i, isn\\'t it?' # age)"
      ],
      "execution_count": 38,
      "outputs": [
        {
          "output_type": "stream",
          "text": [
            "Hello, #s!\n"
          ],
          "name": "stdout"
        }
      ]
    },
    {
      "cell_type": "markdown",
      "metadata": {
        "id": "PLWYUIeZfXVU"
      },
      "source": [
        "* `str.format` (python3 이후)\r\n",
        "    문자열 내에 `{}`을 넣어서 슬롯을 만들고 `format` 함수를 이용해서 슬롯에 필요한 데이터를 넘긴다."
      ]
    },
    {
      "cell_type": "code",
      "metadata": {
        "colab": {
          "base_uri": "https://localhost:8080/"
        },
        "id": "7T0EsHz9fEyq",
        "outputId": "57fe196b-2d9e-4e6f-d723-4722d2156058"
      },
      "source": [
        "print(\"{}, {}, {}, {}\". format(1,2,3,4))\r\n",
        "print(\"{}, {}, {}, {}\". format('a','b','c','d'))\r\n",
        "print(\"{3}, {2}, {1}, {0}\". format('a','b','c','d')) # 순서 지정 가능"
      ],
      "execution_count": 42,
      "outputs": [
        {
          "output_type": "stream",
          "text": [
            "1, 2, 3, 4\n",
            "a, b, c, d\n",
            "d, c, b, a\n"
          ],
          "name": "stdout"
        }
      ]
    },
    {
      "cell_type": "code",
      "metadata": {
        "colab": {
          "base_uri": "https://localhost:8080/"
        },
        "id": "pM0UKXUKftMz",
        "outputId": "5a70fa1d-4cf4-4cf1-cd38-32d1a2d2e234"
      },
      "source": [
        "x = 32.24111\r\n",
        "y = -115.1212121\r\n",
        "\r\n",
        "print('좌표값은 ({0},{1})입니다.'.format(x, y))\r\n",
        "print('좌표값은 ({lat},{lng})입니다.'.format(lat = x, lng = y))\r\n",
        "print('좌표값은 ({lat:10.3f}, {lng:10.2f})입니다.'.format(lat = x, lng = y))\r\n",
        "# 전체가 10자리인데, 소숫점은 3번째 자리까지 표현해라."
      ],
      "execution_count": 46,
      "outputs": [
        {
          "output_type": "stream",
          "text": [
            "좌표값은 (32.24111,-115.1212121)입니다.\n",
            "좌표값은 (32.24111,-115.1212121)입니다.\n",
            "좌표값은 (    32.241,    -115.12)입니다.\n"
          ],
          "name": "stdout"
        }
      ]
    },
    {
      "cell_type": "markdown",
      "metadata": {
        "id": "O5R-qQAig_NN"
      },
      "source": [
        "* `f'string{}string'` (python 3.6 이상의 버전) -> 바로 변수를 가져다 쓸 수 있다."
      ]
    },
    {
      "cell_type": "code",
      "metadata": {
        "colab": {
          "base_uri": "https://localhost:8080/"
        },
        "id": "AC8mhN3cgU79",
        "outputId": "fe11e053-466a-486d-a660-4b7ecbd1cf0a"
      },
      "source": [
        "print(f'Hello, {name}')"
      ],
      "execution_count": 47,
      "outputs": [
        {
          "output_type": "stream",
          "text": [
            "Hello, Bob\n"
          ],
          "name": "stdout"
        }
      ]
    },
    {
      "cell_type": "markdown",
      "metadata": {
        "id": "pPnFwHOahh0l"
      },
      "source": [
        "## 1.4 기본 자료구조(Data Structure)"
      ]
    },
    {
      "cell_type": "markdown",
      "metadata": {
        "id": "IKaovhJXhoKU"
      },
      "source": [
        "### 1) List 자료구조\r\n",
        "* 여러 값을 순서에 따라 저장하는 자료구조"
      ]
    },
    {
      "cell_type": "code",
      "metadata": {
        "colab": {
          "base_uri": "https://localhost:8080/"
        },
        "id": "ANF5dBz0hZKW",
        "outputId": "f3b1be19-86a8-4b80-d29a-ddb03468cc5c"
      },
      "source": [
        "a = [1,2,3,4,5]\r\n",
        "print(a)"
      ],
      "execution_count": 55,
      "outputs": [
        {
          "output_type": "stream",
          "text": [
            "[1, 2, 3, 4, 5]\n"
          ],
          "name": "stdout"
        }
      ]
    },
    {
      "cell_type": "code",
      "metadata": {
        "colab": {
          "base_uri": "https://localhost:8080/"
        },
        "id": "62iGna49hw08",
        "outputId": "d095ef48-730d-4297-c567-6aee101960ee"
      },
      "source": [
        "print(a[0])\r\n",
        "print(a[-1])"
      ],
      "execution_count": 56,
      "outputs": [
        {
          "output_type": "stream",
          "text": [
            "1\n",
            "5\n"
          ],
          "name": "stdout"
        }
      ]
    },
    {
      "cell_type": "code",
      "metadata": {
        "colab": {
          "base_uri": "https://localhost:8080/"
        },
        "id": "taV3Cl3Bh7ul",
        "outputId": "e5ca529c-a4e1-4146-be20-4fd09c8a3b53"
      },
      "source": [
        "a[1:3]"
      ],
      "execution_count": 57,
      "outputs": [
        {
          "output_type": "execute_result",
          "data": {
            "text/plain": [
              "[2, 3]"
            ]
          },
          "metadata": {
            "tags": []
          },
          "execution_count": 57
        }
      ]
    },
    {
      "cell_type": "code",
      "metadata": {
        "colab": {
          "base_uri": "https://localhost:8080/"
        },
        "id": "XgN_9EHMh-8q",
        "outputId": "1439697a-8663-44da-acd0-689a3f2fe924"
      },
      "source": [
        "b = [1, \"a\", [1,2,3], (3,4,4)]\r\n",
        "len(b)\r\n",
        "print(b)"
      ],
      "execution_count": 58,
      "outputs": [
        {
          "output_type": "stream",
          "text": [
            "[1, 'a', [1, 2, 3], (3, 4, 4)]\n"
          ],
          "name": "stdout"
        }
      ]
    },
    {
      "cell_type": "code",
      "metadata": {
        "colab": {
          "base_uri": "https://localhost:8080/"
        },
        "id": "JLCOC6BgiQfQ",
        "outputId": "4d6bf3a3-5d55-495f-a144-8afac5333911"
      },
      "source": [
        "b.append(7)\r\n",
        "b"
      ],
      "execution_count": 59,
      "outputs": [
        {
          "output_type": "execute_result",
          "data": {
            "text/plain": [
              "[1, 'a', [1, 2, 3], (3, 4, 4), 7]"
            ]
          },
          "metadata": {
            "tags": []
          },
          "execution_count": 59
        }
      ]
    },
    {
      "cell_type": "code",
      "metadata": {
        "colab": {
          "base_uri": "https://localhost:8080/"
        },
        "id": "lV7mMCPqiU4o",
        "outputId": "0b33ddb8-b654-46b8-8e0c-fe3476abf634"
      },
      "source": [
        "b.insert(1, 9) # 인덱스 1번 위치에 9라는 요소를 추가 \r\n",
        "b"
      ],
      "execution_count": 60,
      "outputs": [
        {
          "output_type": "execute_result",
          "data": {
            "text/plain": [
              "[1, 9, 'a', [1, 2, 3], (3, 4, 4), 7]"
            ]
          },
          "metadata": {
            "tags": []
          },
          "execution_count": 60
        }
      ]
    },
    {
      "cell_type": "code",
      "metadata": {
        "colab": {
          "base_uri": "https://localhost:8080/"
        },
        "id": "co0IsP4qic3a",
        "outputId": "2d08d185-a283-4f68-fc92-0cfe00acbfdd"
      },
      "source": [
        "b.pop()"
      ],
      "execution_count": 61,
      "outputs": [
        {
          "output_type": "execute_result",
          "data": {
            "text/plain": [
              "7"
            ]
          },
          "metadata": {
            "tags": []
          },
          "execution_count": 61
        }
      ]
    },
    {
      "cell_type": "code",
      "metadata": {
        "colab": {
          "base_uri": "https://localhost:8080/"
        },
        "id": "IiROBGcfirWq",
        "outputId": "8c512822-0c7c-4e8d-b5fc-52a8fb757472"
      },
      "source": [
        "b"
      ],
      "execution_count": 62,
      "outputs": [
        {
          "output_type": "execute_result",
          "data": {
            "text/plain": [
              "[1, 9, 'a', [1, 2, 3], (3, 4, 4)]"
            ]
          },
          "metadata": {
            "tags": []
          },
          "execution_count": 62
        }
      ]
    },
    {
      "cell_type": "code",
      "metadata": {
        "colab": {
          "base_uri": "https://localhost:8080/"
        },
        "id": "3o5VJjSPisdh",
        "outputId": "21370216-1739-4c72-de8a-5f06a91725e3"
      },
      "source": [
        "b.remove(9) # 리스트 안에 9라는 요소를 제거\r\n",
        "b"
      ],
      "execution_count": 64,
      "outputs": [
        {
          "output_type": "execute_result",
          "data": {
            "text/plain": [
              "[1, 'a', [1, 2, 3], (3, 4, 4)]"
            ]
          },
          "metadata": {
            "tags": []
          },
          "execution_count": 64
        }
      ]
    },
    {
      "cell_type": "code",
      "metadata": {
        "id": "1RpvddM8i21q"
      },
      "source": [
        "b[2] = \"c\""
      ],
      "execution_count": 65,
      "outputs": []
    },
    {
      "cell_type": "code",
      "metadata": {
        "colab": {
          "base_uri": "https://localhost:8080/"
        },
        "id": "HsfO02_ljEwM",
        "outputId": "0c1d9f07-c84c-486c-e616-f912138ecd1a"
      },
      "source": [
        "b"
      ],
      "execution_count": 66,
      "outputs": [
        {
          "output_type": "execute_result",
          "data": {
            "text/plain": [
              "[1, 'a', 'c', (3, 4, 4)]"
            ]
          },
          "metadata": {
            "tags": []
          },
          "execution_count": 66
        }
      ]
    },
    {
      "cell_type": "markdown",
      "metadata": {
        "id": "ulDopYwDjHkD"
      },
      "source": [
        "### 2) Tuple 자료구조\r\n",
        "* 리스트와 유사, 값을 변경할 수 없는 자료구조"
      ]
    },
    {
      "cell_type": "code",
      "metadata": {
        "colab": {
          "base_uri": "https://localhost:8080/"
        },
        "id": "esyNLvQqjFj2",
        "outputId": "a131cf2d-0abd-41b3-de8b-4d1b7b7103c0"
      },
      "source": [
        "b = (1,2,3,4)\r\n",
        "b[1]"
      ],
      "execution_count": 67,
      "outputs": [
        {
          "output_type": "execute_result",
          "data": {
            "text/plain": [
              "2"
            ]
          },
          "metadata": {
            "tags": []
          },
          "execution_count": 67
        }
      ]
    },
    {
      "cell_type": "code",
      "metadata": {
        "colab": {
          "base_uri": "https://localhost:8080/",
          "height": 165
        },
        "id": "rZG5FpB1jRfq",
        "outputId": "7c4d1731-307d-4ade-b67f-9dfd442fb9a4"
      },
      "source": [
        "b[2] = 5"
      ],
      "execution_count": 68,
      "outputs": [
        {
          "output_type": "error",
          "ename": "TypeError",
          "evalue": "ignored",
          "traceback": [
            "\u001b[0;31m---------------------------------------------------------------------------\u001b[0m",
            "\u001b[0;31mTypeError\u001b[0m                                 Traceback (most recent call last)",
            "\u001b[0;32m<ipython-input-68-ef8828e71332>\u001b[0m in \u001b[0;36m<module>\u001b[0;34m()\u001b[0m\n\u001b[0;32m----> 1\u001b[0;31m \u001b[0mb\u001b[0m\u001b[0;34m[\u001b[0m\u001b[0;36m2\u001b[0m\u001b[0;34m]\u001b[0m \u001b[0;34m=\u001b[0m \u001b[0;36m5\u001b[0m\u001b[0;34m\u001b[0m\u001b[0;34m\u001b[0m\u001b[0m\n\u001b[0m",
            "\u001b[0;31mTypeError\u001b[0m: 'tuple' object does not support item assignment"
          ]
        }
      ]
    },
    {
      "cell_type": "markdown",
      "metadata": {
        "id": "eKXcedyWjYda"
      },
      "source": [
        "### 3) Set 자료구조 \r\n",
        "* 중복을 허용하지 않는 데이터 집합\r\n",
        "* 순서는 보장하지 않는다. \r\n",
        "* mutable 하다. "
      ]
    },
    {
      "cell_type": "code",
      "metadata": {
        "colab": {
          "base_uri": "https://localhost:8080/"
        },
        "id": "51orIhrZjT-m",
        "outputId": "1a2d53d5-19a5-403a-b113-32f3c4873af4"
      },
      "source": [
        "set1 = {1,2,3,4}\r\n",
        "set2 = {3,4,5,6}\r\n",
        "\r\n",
        "print(set1 & set2) # 교집합\r\n",
        "print(set1 | set2) # 합집합\r\n",
        "print(set1 - set2) # 차집합\r\n",
        "print(set1 ^ set2) # 여집합"
      ],
      "execution_count": 69,
      "outputs": [
        {
          "output_type": "stream",
          "text": [
            "{3, 4}\n",
            "{1, 2, 3, 4, 5, 6}\n",
            "{1, 2}\n",
            "{1, 2, 5, 6}\n"
          ],
          "name": "stdout"
        }
      ]
    },
    {
      "cell_type": "markdown",
      "metadata": {
        "id": "9ABV8YQSkDkq"
      },
      "source": [
        "### 4) Dictionary 자료구조\r\n",
        "* key - value 쌍으로 구성된 집합"
      ]
    },
    {
      "cell_type": "code",
      "metadata": {
        "colab": {
          "base_uri": "https://localhost:8080/"
        },
        "id": "4-XUxzUdkAB4",
        "outputId": "3c3802fb-6d01-40ed-a841-daca05dc5872"
      },
      "source": [
        "dict1 = {'blue' : 10, 'yellow' : 20, 'red' : 7}\r\n",
        "dict1['blue']"
      ],
      "execution_count": 2,
      "outputs": [
        {
          "output_type": "execute_result",
          "data": {
            "text/plain": [
              "10"
            ]
          },
          "metadata": {
            "tags": []
          },
          "execution_count": 2
        }
      ]
    },
    {
      "cell_type": "code",
      "metadata": {
        "colab": {
          "base_uri": "https://localhost:8080/",
          "height": 165
        },
        "id": "vTQ1OU1IkX7k",
        "outputId": "9020af42-8918-4ffe-b3e6-c8e53cd867ad"
      },
      "source": [
        "dict['whilte']"
      ],
      "execution_count": 3,
      "outputs": [
        {
          "output_type": "error",
          "ename": "TypeError",
          "evalue": "ignored",
          "traceback": [
            "\u001b[0;31m---------------------------------------------------------------------------\u001b[0m",
            "\u001b[0;31mTypeError\u001b[0m                                 Traceback (most recent call last)",
            "\u001b[0;32m<ipython-input-3-74786ed1bc97>\u001b[0m in \u001b[0;36m<module>\u001b[0;34m()\u001b[0m\n\u001b[0;32m----> 1\u001b[0;31m \u001b[0mdict\u001b[0m\u001b[0;34m[\u001b[0m\u001b[0;34m'whilte'\u001b[0m\u001b[0;34m]\u001b[0m\u001b[0;34m\u001b[0m\u001b[0;34m\u001b[0m\u001b[0m\n\u001b[0m",
            "\u001b[0;31mTypeError\u001b[0m: 'type' object is not subscriptable"
          ]
        }
      ]
    },
    {
      "cell_type": "code",
      "metadata": {
        "colab": {
          "base_uri": "https://localhost:8080/"
        },
        "id": "mZRr_6aykgqi",
        "outputId": "a6d8531e-3377-4f05-d4b4-f0a7f7f0e800"
      },
      "source": [
        "dict1['blue'] = 3 # value 변경\r\n",
        "dict1"
      ],
      "execution_count": 4,
      "outputs": [
        {
          "output_type": "execute_result",
          "data": {
            "text/plain": [
              "{'blue': 3, 'red': 7, 'yellow': 20}"
            ]
          },
          "metadata": {
            "tags": []
          },
          "execution_count": 4
        }
      ]
    },
    {
      "cell_type": "code",
      "metadata": {
        "colab": {
          "base_uri": "https://localhost:8080/"
        },
        "id": "fs3lPOKzkt5n",
        "outputId": "f1627093-829d-4518-b1a0-c03da491fe89"
      },
      "source": [
        "dict1['white'] = 100 # value 추가\r\n",
        "\r\n",
        "dict1"
      ],
      "execution_count": 7,
      "outputs": [
        {
          "output_type": "execute_result",
          "data": {
            "text/plain": [
              "{'blue': 3, 'red': 7, 'white': 100, 'yellow': 20}"
            ]
          },
          "metadata": {
            "tags": []
          },
          "execution_count": 7
        }
      ]
    },
    {
      "cell_type": "code",
      "metadata": {
        "colab": {
          "base_uri": "https://localhost:8080/"
        },
        "id": "hC503SqTw9_f",
        "outputId": "eb110a1f-c0db-409b-9819-cd62cecf399c"
      },
      "source": [
        "del dict1['white'] # key - value 쌍 삭제\r\n",
        "dict1"
      ],
      "execution_count": 8,
      "outputs": [
        {
          "output_type": "execute_result",
          "data": {
            "text/plain": [
              "{'blue': 3, 'red': 7, 'yellow': 20}"
            ]
          },
          "metadata": {
            "tags": []
          },
          "execution_count": 8
        }
      ]
    },
    {
      "cell_type": "code",
      "metadata": {
        "id": "reo3MLW3xjKe"
      },
      "source": [
        ""
      ],
      "execution_count": null,
      "outputs": []
    }
  ]
}